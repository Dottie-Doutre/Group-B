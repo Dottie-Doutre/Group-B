{
 "cells": [
  {
   "cell_type": "code",
   "execution_count": 91,
   "id": "87fed774",
   "metadata": {},
   "outputs": [],
   "source": [
    "# Import the pathlib and csv library\n",
    "from pathlib import Path\n",
    "import pandas as pd\n",
    "import panel as pn\n",
    "import pygal\n",
    "import csv\n",
    "import seaborn as sns\n",
    "import hvplot.pandas\n",
    "import matplotlib.pyplot as plt\n",
    "%matplotlib inline\n",
    "pn.extension()\n",
    "\n",
    "# Set the file paths\n",
    "\n",
    "crypto_path = Path(\"Data/crypto_user_growth_aus.csv\")\n",
    "gym_est_path = Path(\"Data/gym_establishments.csv\")\n",
    "gym_user_path = Path(\"Data/gym_users.csv\")\n",
    "total_ops_path = Path(\"Data/total_operational_savings_edited.csv\")\n",
    "smart_path = Path(\"Data/smartphone_users.csv\")\n",
    "coin_path = Path(\"Data/coin_bitcoin.csv\")\n",
    "crypto_user_path = Path(\"Data/crypto_user_growth_aus.csv\")\n",
    "wallet_user_path = Path (\"Data/my-wallet-n-users.csv\")"
   ]
  },
  {
   "cell_type": "code",
   "execution_count": 92,
   "id": "32055a44",
   "metadata": {},
   "outputs": [
    {
     "data": {
      "text/html": [
       "<div>\n",
       "<style scoped>\n",
       "    .dataframe tbody tr th:only-of-type {\n",
       "        vertical-align: middle;\n",
       "    }\n",
       "\n",
       "    .dataframe tbody tr th {\n",
       "        vertical-align: top;\n",
       "    }\n",
       "\n",
       "    .dataframe thead th {\n",
       "        text-align: right;\n",
       "    }\n",
       "</style>\n",
       "<table border=\"1\" class=\"dataframe\">\n",
       "  <thead>\n",
       "    <tr style=\"text-align: right;\">\n",
       "      <th></th>\n",
       "      <th>growth</th>\n",
       "    </tr>\n",
       "    <tr>\n",
       "      <th>year</th>\n",
       "      <th></th>\n",
       "    </tr>\n",
       "  </thead>\n",
       "  <tbody>\n",
       "    <tr>\n",
       "      <th>2019</th>\n",
       "      <td>16.8</td>\n",
       "    </tr>\n",
       "    <tr>\n",
       "      <th>2020</th>\n",
       "      <td>18.4</td>\n",
       "    </tr>\n",
       "    <tr>\n",
       "      <th>2021</th>\n",
       "      <td>28.8</td>\n",
       "    </tr>\n",
       "  </tbody>\n",
       "</table>\n",
       "</div>"
      ],
      "text/plain": [
       "       growth\n",
       "year         \n",
       "2019     16.8\n",
       "2020     18.4\n",
       "2021     28.8"
      ]
     },
     "execution_count": 92,
     "metadata": {},
     "output_type": "execute_result"
    }
   ],
   "source": [
    "# Reading in the crypto user growth\n",
    "## Display Crypto user dataframe\n",
    "\n",
    "crypto_df = pd.read_csv(crypto_path, index_col=\"year\")\n",
    "crypto_df "
   ]
  },
  {
   "cell_type": "code",
   "execution_count": 93,
   "id": "40b4d360",
   "metadata": {},
   "outputs": [
    {
     "data": {
      "text/html": [
       "<div>\n",
       "<style scoped>\n",
       "    .dataframe tbody tr th:only-of-type {\n",
       "        vertical-align: middle;\n",
       "    }\n",
       "\n",
       "    .dataframe tbody tr th {\n",
       "        vertical-align: top;\n",
       "    }\n",
       "\n",
       "    .dataframe thead th {\n",
       "        text-align: right;\n",
       "    }\n",
       "</style>\n",
       "<table border=\"1\" class=\"dataframe\">\n",
       "  <thead>\n",
       "    <tr style=\"text-align: right;\">\n",
       "      <th></th>\n",
       "      <th>no_of_gyms</th>\n",
       "    </tr>\n",
       "    <tr>\n",
       "      <th>year</th>\n",
       "      <th></th>\n",
       "    </tr>\n",
       "  </thead>\n",
       "  <tbody>\n",
       "    <tr>\n",
       "      <th>2016</th>\n",
       "      <td>3900</td>\n",
       "    </tr>\n",
       "    <tr>\n",
       "      <th>2017</th>\n",
       "      <td>4400</td>\n",
       "    </tr>\n",
       "    <tr>\n",
       "      <th>2018</th>\n",
       "      <td>4800</td>\n",
       "    </tr>\n",
       "    <tr>\n",
       "      <th>2019</th>\n",
       "      <td>5000</td>\n",
       "    </tr>\n",
       "    <tr>\n",
       "      <th>2020</th>\n",
       "      <td>5300</td>\n",
       "    </tr>\n",
       "  </tbody>\n",
       "</table>\n",
       "</div>"
      ],
      "text/plain": [
       "      no_of_gyms\n",
       "year            \n",
       "2016        3900\n",
       "2017        4400\n",
       "2018        4800\n",
       "2019        5000\n",
       "2020        5300"
      ]
     },
     "execution_count": 93,
     "metadata": {},
     "output_type": "execute_result"
    }
   ],
   "source": [
    "# Reading in the gym establishments\n",
    "## Display gym establishments dataframe\n",
    "\n",
    "gym_est_df = pd.read_csv(gym_est_path, index_col=\"year\")\n",
    "gym_est_df.head()"
   ]
  },
  {
   "cell_type": "code",
   "execution_count": 36,
   "id": "febfc5b5",
   "metadata": {},
   "outputs": [
    {
     "data": {
      "text/html": [
       "<div>\n",
       "<style scoped>\n",
       "    .dataframe tbody tr th:only-of-type {\n",
       "        vertical-align: middle;\n",
       "    }\n",
       "\n",
       "    .dataframe tbody tr th {\n",
       "        vertical-align: top;\n",
       "    }\n",
       "\n",
       "    .dataframe thead th {\n",
       "        text-align: right;\n",
       "    }\n",
       "</style>\n",
       "<table border=\"1\" class=\"dataframe\">\n",
       "  <thead>\n",
       "    <tr style=\"text-align: right;\">\n",
       "      <th></th>\n",
       "      <th>number_of_people</th>\n",
       "    </tr>\n",
       "    <tr>\n",
       "      <th>age</th>\n",
       "      <th></th>\n",
       "    </tr>\n",
       "  </thead>\n",
       "  <tbody>\n",
       "    <tr>\n",
       "      <th>15-17</th>\n",
       "      <td>263000</td>\n",
       "    </tr>\n",
       "    <tr>\n",
       "      <th>18-24</th>\n",
       "      <td>1103000</td>\n",
       "    </tr>\n",
       "    <tr>\n",
       "      <th>25-35</th>\n",
       "      <td>1720000</td>\n",
       "    </tr>\n",
       "    <tr>\n",
       "      <th>35-44</th>\n",
       "      <td>1367000</td>\n",
       "    </tr>\n",
       "    <tr>\n",
       "      <th>45-54</th>\n",
       "      <td>1151000</td>\n",
       "    </tr>\n",
       "  </tbody>\n",
       "</table>\n",
       "</div>"
      ],
      "text/plain": [
       "       number_of_people\n",
       "age                    \n",
       "15-17            263000\n",
       "18-24           1103000\n",
       "25-35           1720000\n",
       "35-44           1367000\n",
       "45-54           1151000"
      ]
     },
     "execution_count": 36,
     "metadata": {},
     "output_type": "execute_result"
    }
   ],
   "source": [
    "# Reading in the gym user\n",
    "## Display gym user dataframe\n",
    "\n",
    "gym_user_df = pd.read_csv(gym_user_path, index_col = \"age\")\n",
    "gym_user_df = gym_user_df.drop(\"No\", axis=1)\n",
    "gym_user_df.head()"
   ]
  },
  {
   "cell_type": "code",
   "execution_count": 37,
   "id": "bb32c216",
   "metadata": {},
   "outputs": [
    {
     "data": {
      "text/html": [
       "<div>\n",
       "<style scoped>\n",
       "    .dataframe tbody tr th:only-of-type {\n",
       "        vertical-align: middle;\n",
       "    }\n",
       "\n",
       "    .dataframe tbody tr th {\n",
       "        vertical-align: top;\n",
       "    }\n",
       "\n",
       "    .dataframe thead th {\n",
       "        text-align: right;\n",
       "    }\n",
       "</style>\n",
       "<table border=\"1\" class=\"dataframe\">\n",
       "  <thead>\n",
       "    <tr style=\"text-align: right;\">\n",
       "      <th></th>\n",
       "      <th>business</th>\n",
       "      <th>Transaction_Occurence</th>\n",
       "      <th>Price_Old</th>\n",
       "      <th>Total_Cost</th>\n",
       "      <th>Hedera</th>\n",
       "      <th>Total_Cost.1</th>\n",
       "      <th>Savings</th>\n",
       "    </tr>\n",
       "  </thead>\n",
       "  <tbody>\n",
       "    <tr>\n",
       "      <th>0</th>\n",
       "      <td>debitsuccess</td>\n",
       "      <td>100</td>\n",
       "      <td>$1.74</td>\n",
       "      <td>$174</td>\n",
       "      <td>0.00014</td>\n",
       "      <td>0.014</td>\n",
       "      <td>$173.986</td>\n",
       "    </tr>\n",
       "    <tr>\n",
       "      <th>1</th>\n",
       "      <td>debitsuccess</td>\n",
       "      <td>1000</td>\n",
       "      <td>$1.74</td>\n",
       "      <td>$$1740</td>\n",
       "      <td>0.00014</td>\n",
       "      <td>0.140</td>\n",
       "      <td>$1739.86</td>\n",
       "    </tr>\n",
       "    <tr>\n",
       "      <th>2</th>\n",
       "      <td>debitsuccess</td>\n",
       "      <td>10000</td>\n",
       "      <td>$1.74</td>\n",
       "      <td>$$17400</td>\n",
       "      <td>0.00014</td>\n",
       "      <td>1.140</td>\n",
       "      <td>$17398.6</td>\n",
       "    </tr>\n",
       "    <tr>\n",
       "      <th>3</th>\n",
       "      <td>debitsuccess</td>\n",
       "      <td>100000</td>\n",
       "      <td>$1.74</td>\n",
       "      <td>$$174000</td>\n",
       "      <td>0.00014</td>\n",
       "      <td>11.400</td>\n",
       "      <td>$173986</td>\n",
       "    </tr>\n",
       "    <tr>\n",
       "      <th>4</th>\n",
       "      <td>payadvantage</td>\n",
       "      <td>100</td>\n",
       "      <td>0.88</td>\n",
       "      <td>88</td>\n",
       "      <td>0.00014</td>\n",
       "      <td>0.014</td>\n",
       "      <td>87.986</td>\n",
       "    </tr>\n",
       "  </tbody>\n",
       "</table>\n",
       "</div>"
      ],
      "text/plain": [
       "       business   Transaction_Occurence  Price_Old  Total_Cost   Hedera  \\\n",
       "0  debitsuccess                     100      $1.74        $174  0.00014   \n",
       "1  debitsuccess                    1000      $1.74      $$1740  0.00014   \n",
       "2  debitsuccess                   10000      $1.74     $$17400  0.00014   \n",
       "3  debitsuccess                  100000      $1.74    $$174000  0.00014   \n",
       "4  payadvantage                     100       0.88          88  0.00014   \n",
       "\n",
       "    Total_Cost.1     Savings  \n",
       "0          0.014    $173.986  \n",
       "1          0.140    $1739.86  \n",
       "2          1.140    $17398.6  \n",
       "3         11.400     $173986  \n",
       "4          0.014      87.986  "
      ]
     },
     "execution_count": 37,
     "metadata": {},
     "output_type": "execute_result"
    }
   ],
   "source": [
    "# Reading in the total operational savings\n",
    "## Display total operational savings dataframe\n",
    "\n",
    "total_ops_df = pd.read_csv(total_ops_path)\n",
    "total_ops_df.head()"
   ]
  },
  {
   "cell_type": "code",
   "execution_count": 38,
   "id": "305d0356",
   "metadata": {},
   "outputs": [
    {
     "data": {
      "text/html": [
       "<div>\n",
       "<style scoped>\n",
       "    .dataframe tbody tr th:only-of-type {\n",
       "        vertical-align: middle;\n",
       "    }\n",
       "\n",
       "    .dataframe tbody tr th {\n",
       "        vertical-align: top;\n",
       "    }\n",
       "\n",
       "    .dataframe thead th {\n",
       "        text-align: right;\n",
       "    }\n",
       "</style>\n",
       "<table border=\"1\" class=\"dataframe\">\n",
       "  <thead>\n",
       "    <tr style=\"text-align: right;\">\n",
       "      <th></th>\n",
       "      <th>Company</th>\n",
       "      <th>Transactional Occurence</th>\n",
       "      <th>Company Transaction Amnt</th>\n",
       "      <th>Total Cost via Company</th>\n",
       "      <th>Hedera Transaction Amnt</th>\n",
       "      <th>Total Cost via Hedera</th>\n",
       "      <th>Savings Hedera vs Company</th>\n",
       "    </tr>\n",
       "  </thead>\n",
       "  <tbody>\n",
       "    <tr>\n",
       "      <th>0</th>\n",
       "      <td>debitsuccess</td>\n",
       "      <td>100</td>\n",
       "      <td>$1.74</td>\n",
       "      <td>$174</td>\n",
       "      <td>0.00014</td>\n",
       "      <td>0.014</td>\n",
       "      <td>$173.986</td>\n",
       "    </tr>\n",
       "    <tr>\n",
       "      <th>1</th>\n",
       "      <td>debitsuccess</td>\n",
       "      <td>1000</td>\n",
       "      <td>$1.74</td>\n",
       "      <td>$$1740</td>\n",
       "      <td>0.00014</td>\n",
       "      <td>0.140</td>\n",
       "      <td>$1739.86</td>\n",
       "    </tr>\n",
       "    <tr>\n",
       "      <th>2</th>\n",
       "      <td>debitsuccess</td>\n",
       "      <td>10000</td>\n",
       "      <td>$1.74</td>\n",
       "      <td>$$17400</td>\n",
       "      <td>0.00014</td>\n",
       "      <td>1.140</td>\n",
       "      <td>$17398.6</td>\n",
       "    </tr>\n",
       "    <tr>\n",
       "      <th>3</th>\n",
       "      <td>debitsuccess</td>\n",
       "      <td>100000</td>\n",
       "      <td>$1.74</td>\n",
       "      <td>$$174000</td>\n",
       "      <td>0.00014</td>\n",
       "      <td>11.400</td>\n",
       "      <td>$173986</td>\n",
       "    </tr>\n",
       "    <tr>\n",
       "      <th>4</th>\n",
       "      <td>payadvantage</td>\n",
       "      <td>100</td>\n",
       "      <td>0.88</td>\n",
       "      <td>88</td>\n",
       "      <td>0.00014</td>\n",
       "      <td>0.014</td>\n",
       "      <td>87.986</td>\n",
       "    </tr>\n",
       "  </tbody>\n",
       "</table>\n",
       "</div>"
      ],
      "text/plain": [
       "        Company  Transactional Occurence Company Transaction Amnt  \\\n",
       "0  debitsuccess                      100                    $1.74   \n",
       "1  debitsuccess                     1000                    $1.74   \n",
       "2  debitsuccess                    10000                    $1.74   \n",
       "3  debitsuccess                   100000                    $1.74   \n",
       "4  payadvantage                      100                     0.88   \n",
       "\n",
       "  Total Cost via Company  Hedera Transaction Amnt  Total Cost via Hedera  \\\n",
       "0                   $174                  0.00014                  0.014   \n",
       "1                 $$1740                  0.00014                  0.140   \n",
       "2                $$17400                  0.00014                  1.140   \n",
       "3               $$174000                  0.00014                 11.400   \n",
       "4                     88                  0.00014                  0.014   \n",
       "\n",
       "  Savings Hedera vs Company  \n",
       "0                  $173.986  \n",
       "1                  $1739.86  \n",
       "2                  $17398.6  \n",
       "3                   $173986  \n",
       "4                    87.986  "
      ]
     },
     "execution_count": 38,
     "metadata": {},
     "output_type": "execute_result"
    }
   ],
   "source": [
    "# Data cleansing of total_ops_df\n",
    "## Step 1 = renaming columns, \n",
    "### New cleansed dataframe called total_ops\n",
    "\n",
    "total_ops = total_ops_df.set_axis([\"Company\",\"Transactional Occurence\",\"Company Transaction Amnt\",\n",
    "                                  \"Total Cost via Company\",\"Hedera Transaction Amnt\",\"Total Cost via Hedera\",\"Savings Hedera vs Company\"], axis=1, inplace=False)\n",
    "total_ops.head()"
   ]
  },
  {
   "cell_type": "code",
   "execution_count": 39,
   "id": "a97df9f1",
   "metadata": {},
   "outputs": [
    {
     "data": {
      "text/plain": [
       "Company                       object\n",
       "Transactional Occurence        int64\n",
       "Company Transaction Amnt      object\n",
       "Total Cost via Company        object\n",
       "Hedera Transaction Amnt      float64\n",
       "Total Cost via Hedera        float64\n",
       "Savings Hedera vs Company     object\n",
       "dtype: object"
      ]
     },
     "execution_count": 39,
     "metadata": {},
     "output_type": "execute_result"
    }
   ],
   "source": [
    "# Checking datatypes within total_ops dataframe\n",
    "total_ops.dtypes"
   ]
  },
  {
   "cell_type": "code",
   "execution_count": 40,
   "id": "25a2ca57",
   "metadata": {},
   "outputs": [
    {
     "data": {
      "text/html": [
       "<div>\n",
       "<style scoped>\n",
       "    .dataframe tbody tr th:only-of-type {\n",
       "        vertical-align: middle;\n",
       "    }\n",
       "\n",
       "    .dataframe tbody tr th {\n",
       "        vertical-align: top;\n",
       "    }\n",
       "\n",
       "    .dataframe thead th {\n",
       "        text-align: right;\n",
       "    }\n",
       "</style>\n",
       "<table border=\"1\" class=\"dataframe\">\n",
       "  <thead>\n",
       "    <tr style=\"text-align: right;\">\n",
       "      <th></th>\n",
       "      <th>Transactional Occurence</th>\n",
       "      <th>Company Transaction Amnt</th>\n",
       "      <th>Total Cost via Company</th>\n",
       "      <th>Hedera Transaction Amnt</th>\n",
       "      <th>Total Cost via Hedera</th>\n",
       "      <th>Savings Hedera vs Company</th>\n",
       "    </tr>\n",
       "    <tr>\n",
       "      <th>Company</th>\n",
       "      <th></th>\n",
       "      <th></th>\n",
       "      <th></th>\n",
       "      <th></th>\n",
       "      <th></th>\n",
       "      <th></th>\n",
       "    </tr>\n",
       "  </thead>\n",
       "  <tbody>\n",
       "    <tr>\n",
       "      <th>debitsuccess</th>\n",
       "      <td>100</td>\n",
       "      <td>$1.74</td>\n",
       "      <td>$174</td>\n",
       "      <td>0.00014</td>\n",
       "      <td>0.014</td>\n",
       "      <td>$173.986</td>\n",
       "    </tr>\n",
       "    <tr>\n",
       "      <th>debitsuccess</th>\n",
       "      <td>1000</td>\n",
       "      <td>$1.74</td>\n",
       "      <td>$$1740</td>\n",
       "      <td>0.00014</td>\n",
       "      <td>0.140</td>\n",
       "      <td>$1739.86</td>\n",
       "    </tr>\n",
       "    <tr>\n",
       "      <th>debitsuccess</th>\n",
       "      <td>10000</td>\n",
       "      <td>$1.74</td>\n",
       "      <td>$$17400</td>\n",
       "      <td>0.00014</td>\n",
       "      <td>1.140</td>\n",
       "      <td>$17398.6</td>\n",
       "    </tr>\n",
       "    <tr>\n",
       "      <th>debitsuccess</th>\n",
       "      <td>100000</td>\n",
       "      <td>$1.74</td>\n",
       "      <td>$$174000</td>\n",
       "      <td>0.00014</td>\n",
       "      <td>11.400</td>\n",
       "      <td>$173986</td>\n",
       "    </tr>\n",
       "    <tr>\n",
       "      <th>payadvantage</th>\n",
       "      <td>100</td>\n",
       "      <td>0.88</td>\n",
       "      <td>88</td>\n",
       "      <td>0.00014</td>\n",
       "      <td>0.014</td>\n",
       "      <td>87.986</td>\n",
       "    </tr>\n",
       "  </tbody>\n",
       "</table>\n",
       "</div>"
      ],
      "text/plain": [
       "              Transactional Occurence Company Transaction Amnt  \\\n",
       "Company                                                          \n",
       "debitsuccess                      100                    $1.74   \n",
       "debitsuccess                     1000                    $1.74   \n",
       "debitsuccess                    10000                    $1.74   \n",
       "debitsuccess                   100000                    $1.74   \n",
       "payadvantage                      100                     0.88   \n",
       "\n",
       "             Total Cost via Company  Hedera Transaction Amnt  \\\n",
       "Company                                                        \n",
       "debitsuccess                   $174                  0.00014   \n",
       "debitsuccess                 $$1740                  0.00014   \n",
       "debitsuccess                $$17400                  0.00014   \n",
       "debitsuccess               $$174000                  0.00014   \n",
       "payadvantage                     88                  0.00014   \n",
       "\n",
       "              Total Cost via Hedera Savings Hedera vs Company  \n",
       "Company                                                        \n",
       "debitsuccess                  0.014                  $173.986  \n",
       "debitsuccess                  0.140                  $1739.86  \n",
       "debitsuccess                  1.140                  $17398.6  \n",
       "debitsuccess                 11.400                   $173986  \n",
       "payadvantage                  0.014                    87.986  "
      ]
     },
     "execution_count": 40,
     "metadata": {},
     "output_type": "execute_result"
    }
   ],
   "source": [
    "# Data cleansing of total_ops\n",
    "## Step 2 renaming indexes i.e. 1 = Payadvantage, 2 = PaySmart etc\n",
    "### Then indexed Company column\n",
    "#### New cleansed dataframe called total_ops_2\n",
    "\n",
    "total_ops_2 = total_ops.replace({1:\"PayAdvantage\",2:\"PaySmart\",3:\"EzyPay\"})\n",
    "total_ops_2 = total_ops_2.set_index(\"Company\")\n",
    "total_ops_2.head()"
   ]
  },
  {
   "cell_type": "code",
   "execution_count": 41,
   "id": "3e1a38a1",
   "metadata": {},
   "outputs": [
    {
     "data": {
      "text/html": [
       "<div>\n",
       "<style scoped>\n",
       "    .dataframe tbody tr th:only-of-type {\n",
       "        vertical-align: middle;\n",
       "    }\n",
       "\n",
       "    .dataframe tbody tr th {\n",
       "        vertical-align: top;\n",
       "    }\n",
       "\n",
       "    .dataframe thead th {\n",
       "        text-align: right;\n",
       "    }\n",
       "</style>\n",
       "<table border=\"1\" class=\"dataframe\">\n",
       "  <thead>\n",
       "    <tr style=\"text-align: right;\">\n",
       "      <th></th>\n",
       "      <th>Transactional Occurence</th>\n",
       "      <th>Hedera Transaction Amnt</th>\n",
       "      <th>Total Cost via Hedera</th>\n",
       "    </tr>\n",
       "  </thead>\n",
       "  <tbody>\n",
       "    <tr>\n",
       "      <th>count</th>\n",
       "      <td>16.000000</td>\n",
       "      <td>1.600000e+01</td>\n",
       "      <td>16.000000</td>\n",
       "    </tr>\n",
       "    <tr>\n",
       "      <th>mean</th>\n",
       "      <td>27775.000000</td>\n",
       "      <td>1.400000e-04</td>\n",
       "      <td>3.206000</td>\n",
       "    </tr>\n",
       "    <tr>\n",
       "      <th>std</th>\n",
       "      <td>43251.843891</td>\n",
       "      <td>2.799398e-20</td>\n",
       "      <td>4.912456</td>\n",
       "    </tr>\n",
       "    <tr>\n",
       "      <th>min</th>\n",
       "      <td>100.000000</td>\n",
       "      <td>1.400000e-04</td>\n",
       "      <td>0.014000</td>\n",
       "    </tr>\n",
       "    <tr>\n",
       "      <th>25%</th>\n",
       "      <td>775.000000</td>\n",
       "      <td>1.400000e-04</td>\n",
       "      <td>0.108500</td>\n",
       "    </tr>\n",
       "    <tr>\n",
       "      <th>50%</th>\n",
       "      <td>5500.000000</td>\n",
       "      <td>1.400000e-04</td>\n",
       "      <td>0.640000</td>\n",
       "    </tr>\n",
       "    <tr>\n",
       "      <th>75%</th>\n",
       "      <td>32500.000000</td>\n",
       "      <td>1.400000e-04</td>\n",
       "      <td>3.900000</td>\n",
       "    </tr>\n",
       "    <tr>\n",
       "      <th>max</th>\n",
       "      <td>100000.000000</td>\n",
       "      <td>1.400000e-04</td>\n",
       "      <td>11.400000</td>\n",
       "    </tr>\n",
       "  </tbody>\n",
       "</table>\n",
       "</div>"
      ],
      "text/plain": [
       "       Transactional Occurence  Hedera Transaction Amnt  Total Cost via Hedera\n",
       "count                16.000000             1.600000e+01              16.000000\n",
       "mean              27775.000000             1.400000e-04               3.206000\n",
       "std               43251.843891             2.799398e-20               4.912456\n",
       "min                 100.000000             1.400000e-04               0.014000\n",
       "25%                 775.000000             1.400000e-04               0.108500\n",
       "50%                5500.000000             1.400000e-04               0.640000\n",
       "75%               32500.000000             1.400000e-04               3.900000\n",
       "max              100000.000000             1.400000e-04              11.400000"
      ]
     },
     "execution_count": 41,
     "metadata": {},
     "output_type": "execute_result"
    }
   ],
   "source": [
    "# Looking at total_ops_2 statistics\n",
    "\n",
    "total_ops_2.describe()"
   ]
  },
  {
   "cell_type": "code",
   "execution_count": 70,
   "id": "63832570",
   "metadata": {},
   "outputs": [
    {
     "data": {
      "text/html": [
       "<div>\n",
       "<style scoped>\n",
       "    .dataframe tbody tr th:only-of-type {\n",
       "        vertical-align: middle;\n",
       "    }\n",
       "\n",
       "    .dataframe tbody tr th {\n",
       "        vertical-align: top;\n",
       "    }\n",
       "\n",
       "    .dataframe thead th {\n",
       "        text-align: right;\n",
       "    }\n",
       "</style>\n",
       "<table border=\"1\" class=\"dataframe\">\n",
       "  <thead>\n",
       "    <tr style=\"text-align: right;\">\n",
       "      <th></th>\n",
       "      <th>no_of_users</th>\n",
       "    </tr>\n",
       "    <tr>\n",
       "      <th>year</th>\n",
       "      <th></th>\n",
       "    </tr>\n",
       "  </thead>\n",
       "  <tbody>\n",
       "    <tr>\n",
       "      <th>2017</th>\n",
       "      <td>18600000</td>\n",
       "    </tr>\n",
       "    <tr>\n",
       "      <th>2018</th>\n",
       "      <td>19600000</td>\n",
       "    </tr>\n",
       "    <tr>\n",
       "      <th>2019</th>\n",
       "      <td>20000000</td>\n",
       "    </tr>\n",
       "    <tr>\n",
       "      <th>2020</th>\n",
       "      <td>20500000</td>\n",
       "    </tr>\n",
       "    <tr>\n",
       "      <th>2021</th>\n",
       "      <td>20600000</td>\n",
       "    </tr>\n",
       "  </tbody>\n",
       "</table>\n",
       "</div>"
      ],
      "text/plain": [
       "      no_of_users\n",
       "year             \n",
       "2017     18600000\n",
       "2018     19600000\n",
       "2019     20000000\n",
       "2020     20500000\n",
       "2021     20600000"
      ]
     },
     "execution_count": 70,
     "metadata": {},
     "output_type": "execute_result"
    }
   ],
   "source": [
    "# Reading in the total smartphone users\n",
    "## Display smartphone users dataframe\n",
    "\n",
    "smart_df = pd.read_csv(smart_path, index_col=\"year\")\n",
    "smart_df = smart_df.drop(\"Unnamed: 2\", axis=1)\n",
    "smart_df.head()"
   ]
  },
  {
   "cell_type": "code",
   "execution_count": 81,
   "id": "0e3b0d33",
   "metadata": {},
   "outputs": [
    {
     "data": {
      "text/html": [
       "<div>\n",
       "<style scoped>\n",
       "    .dataframe tbody tr th:only-of-type {\n",
       "        vertical-align: middle;\n",
       "    }\n",
       "\n",
       "    .dataframe tbody tr th {\n",
       "        vertical-align: top;\n",
       "    }\n",
       "\n",
       "    .dataframe thead th {\n",
       "        text-align: right;\n",
       "    }\n",
       "</style>\n",
       "<table border=\"1\" class=\"dataframe\">\n",
       "  <thead>\n",
       "    <tr style=\"text-align: right;\">\n",
       "      <th></th>\n",
       "      <th>growth</th>\n",
       "      <th>no_of_users</th>\n",
       "    </tr>\n",
       "    <tr>\n",
       "      <th>year</th>\n",
       "      <th></th>\n",
       "      <th></th>\n",
       "    </tr>\n",
       "  </thead>\n",
       "  <tbody>\n",
       "    <tr>\n",
       "      <th>2019</th>\n",
       "      <td>16.8</td>\n",
       "      <td>20000000</td>\n",
       "    </tr>\n",
       "    <tr>\n",
       "      <th>2020</th>\n",
       "      <td>18.4</td>\n",
       "      <td>20500000</td>\n",
       "    </tr>\n",
       "    <tr>\n",
       "      <th>2021</th>\n",
       "      <td>28.8</td>\n",
       "      <td>20600000</td>\n",
       "    </tr>\n",
       "  </tbody>\n",
       "</table>\n",
       "</div>"
      ],
      "text/plain": [
       "       growth  no_of_users\n",
       "year                      \n",
       "2019     16.8     20000000\n",
       "2020     18.4     20500000\n",
       "2021     28.8     20600000"
      ]
     },
     "execution_count": 81,
     "metadata": {},
     "output_type": "execute_result"
    }
   ],
   "source": [
    "# Combine smartphone user data with crypto data to find correlation\n",
    "crypto_smart_phone = pd.concat([crypto_df, smart_df], axis=1).dropna()\n",
    "crypto_smart_phone.head()"
   ]
  },
  {
   "cell_type": "code",
   "execution_count": 83,
   "id": "631d1c3a",
   "metadata": {},
   "outputs": [
    {
     "data": {
      "text/html": [
       "<div>\n",
       "<style scoped>\n",
       "    .dataframe tbody tr th:only-of-type {\n",
       "        vertical-align: middle;\n",
       "    }\n",
       "\n",
       "    .dataframe tbody tr th {\n",
       "        vertical-align: top;\n",
       "    }\n",
       "\n",
       "    .dataframe thead th {\n",
       "        text-align: right;\n",
       "    }\n",
       "</style>\n",
       "<table border=\"1\" class=\"dataframe\">\n",
       "  <thead>\n",
       "    <tr style=\"text-align: right;\">\n",
       "      <th></th>\n",
       "      <th>growth</th>\n",
       "      <th>no_of_users</th>\n",
       "    </tr>\n",
       "    <tr>\n",
       "      <th>year</th>\n",
       "      <th></th>\n",
       "      <th></th>\n",
       "    </tr>\n",
       "  </thead>\n",
       "  <tbody>\n",
       "    <tr>\n",
       "      <th>2019</th>\n",
       "      <td>NaN</td>\n",
       "      <td>NaN</td>\n",
       "    </tr>\n",
       "    <tr>\n",
       "      <th>2020</th>\n",
       "      <td>0.095238</td>\n",
       "      <td>0.025000</td>\n",
       "    </tr>\n",
       "    <tr>\n",
       "      <th>2021</th>\n",
       "      <td>0.565217</td>\n",
       "      <td>0.004878</td>\n",
       "    </tr>\n",
       "  </tbody>\n",
       "</table>\n",
       "</div>"
      ],
      "text/plain": [
       "        growth  no_of_users\n",
       "year                       \n",
       "2019       NaN          NaN\n",
       "2020  0.095238     0.025000\n",
       "2021  0.565217     0.004878"
      ]
     },
     "execution_count": 83,
     "metadata": {},
     "output_type": "execute_result"
    }
   ],
   "source": [
    "# Create correlation plot for smartphone and crypto data\n",
    "\n",
    "correlation_smartphone_crypto = crypto_smart_phone.pct_change()\n",
    "correlation_smartphone_crypto.head()"
   ]
  },
  {
   "cell_type": "code",
   "execution_count": 87,
   "id": "71960138",
   "metadata": {},
   "outputs": [
    {
     "data": {
      "text/html": [
       "<div>\n",
       "<style scoped>\n",
       "    .dataframe tbody tr th:only-of-type {\n",
       "        vertical-align: middle;\n",
       "    }\n",
       "\n",
       "    .dataframe tbody tr th {\n",
       "        vertical-align: top;\n",
       "    }\n",
       "\n",
       "    .dataframe thead th {\n",
       "        text-align: right;\n",
       "    }\n",
       "</style>\n",
       "<table border=\"1\" class=\"dataframe\">\n",
       "  <thead>\n",
       "    <tr style=\"text-align: right;\">\n",
       "      <th></th>\n",
       "      <th>growth</th>\n",
       "      <th>no_of_users</th>\n",
       "    </tr>\n",
       "  </thead>\n",
       "  <tbody>\n",
       "    <tr>\n",
       "      <th>growth</th>\n",
       "      <td>1.0</td>\n",
       "      <td>-1.0</td>\n",
       "    </tr>\n",
       "    <tr>\n",
       "      <th>no_of_users</th>\n",
       "      <td>-1.0</td>\n",
       "      <td>1.0</td>\n",
       "    </tr>\n",
       "  </tbody>\n",
       "</table>\n",
       "</div>"
      ],
      "text/plain": [
       "              growth  no_of_users\n",
       " growth          1.0         -1.0\n",
       "no_of_users     -1.0          1.0"
      ]
     },
     "execution_count": 87,
     "metadata": {},
     "output_type": "execute_result"
    }
   ],
   "source": [
    "# Calculate Correlation\n",
    "\n",
    "correlation = correlation_smartphone_crypto.corr()\n",
    "correlation"
   ]
  },
  {
   "cell_type": "code",
   "execution_count": 94,
   "id": "fec979ee",
   "metadata": {},
   "outputs": [
    {
     "data": {
      "text/plain": [
       "<AxesSubplot:>"
      ]
     },
     "execution_count": 94,
     "metadata": {},
     "output_type": "execute_result"
    },
    {
     "data": {
      "image/png": "[encoded data removed]",
      "text/plain": [
       "<Figure size 432x288 with 2 Axes>"
      ]
     },
     "metadata": {
      "needs_background": "light"
     },
     "output_type": "display_data"
    }
   ],
   "source": [
    "# Plot Correlation\n",
    "# Create a heatmap from the correlation values\n",
    "sns.heatmap(correlation)"
   ]
  },
  {
   "cell_type": "code",
   "execution_count": 68,
   "id": "ecc5da7c",
   "metadata": {},
   "outputs": [],
   "source": [
    "# Create_bar_chart function to plot (bar) dataframes\n",
    "\n",
    "def create_bar_chart(data, title,xlabel,ylabel,color):\n",
    "\n",
    "    create_bar_chart = data.hvplot.bar(title=title, xlabel=xlabel, ylabel=ylabel, color=color, height=500)\n",
    "    \n",
    "    return(create_bar_chart)"
   ]
  },
  {
   "cell_type": "code",
   "execution_count": 62,
   "id": "3aff62e1",
   "metadata": {},
   "outputs": [
    {
     "data": {},
     "metadata": {},
     "output_type": "display_data"
    },
    {
     "data": {
      "application/vnd.holoviews_exec.v0+json": "",
      "text/html": [
       "<div id='2056'>\n",
       "\n",
       "\n",
       "\n",
       "\n",
       "\n",
       "  <div class=\"bk-root\" id=\"2b54465a-4651-4653-9b4b-a14569587878\" data-root-id=\"2056\"></div>\n",
       "</div>\n",
       "<script type=\"application/javascript\">(function(root) {\n",
       "  function embed_document(root) {\n",
       "    var docs_json = {\"fcae7c68-91dc-4cff-b3e3-245f62b1aaee\":{\"defs\":[{\"extends\":null,\"module\":null,\"name\":\"ReactiveHTML1\",\"overrides\":[],\"properties\":[]},{\"extends\":null,\"module\":null,\"name\":\"FlexBox1\",\"overrides\":[],\"properties\":[{\"default\":\"flex-start\",\"kind\":null,\"name\":\"align_content\"},{\"default\":\"flex-start\",\"kind\":null,\"name\":\"align_items\"},{\"default\":\"row\",\"kind\":null,\"name\":\"flex_direction\"},{\"default\":\"wrap\",\"kind\":null,\"name\":\"flex_wrap\"},{\"default\":\"flex-start\",\"kind\":null,\"name\":\"justify_content\"}]},{\"extends\":null,\"module\":null,\"name\":\"TemplateActions1\",\"overrides\":[],\"properties\":[{\"default\":0,\"kind\":null,\"name\":\"open_modal\"},{\"default\":0,\"kind\":null,\"name\":\"close_modal\"}]},{\"extends\":null,\"module\":null,\"name\":\"MaterialTemplateActions1\",\"overrides\":[],\"properties\":[{\"default\":0,\"kind\":null,\"name\":\"open_modal\"},{\"default\":0,\"kind\":null,\"name\":\"close_modal\"}]}],\"roots\":{\"references\":[{\"attributes\":{\"fill_alpha\":{\"value\":0.2},\"fill_color\":{\"value\":\"Orange\"},\"hatch_alpha\":{\"value\":0.2},\"hatch_color\":{\"value\":\"Orange\"},\"line_alpha\":{\"value\":0.2},\"top\":{\"field\":\"growth\"},\"width\":{\"value\":0.8},\"x\":{\"field\":\"year\"}},\"id\":\"2095\",\"type\":\"VBar\"},{\"attributes\":{\"callback\":null,\"renderers\":[{\"id\":\"2096\"}],\"tags\":[\"hv_created\"],\"tooltips\":[[\"year\",\"@{year}\"],[\" growth\",\"@{growth}\"]]},\"id\":\"2060\",\"type\":\"HoverTool\"},{\"attributes\":{\"margin\":[5,5,5,5],\"name\":\"HSpacer03127\",\"sizing_mode\":\"stretch_width\"},\"id\":\"2125\",\"type\":\"Spacer\"},{\"attributes\":{\"coordinates\":null,\"group\":null,\"text\":\"Cryptocurrency User Growth (in Years)\",\"text_color\":\"black\",\"text_font_size\":\"12pt\"},\"id\":\"2062\",\"type\":\"Title\"},{\"attributes\":{},\"id\":\"2066\",\"type\":\"CategoricalScale\"},{\"attributes\":{\"overlay\":{\"id\":\"2082\"}},\"id\":\"2080\",\"type\":\"BoxZoomTool\"},{\"attributes\":{\"data\":{\"growth\":{\"__ndarray__\":\"zczMzMzMMEBmZmZmZmYyQM3MzMzMzDxA\",\"dtype\":\"float64\",\"order\":\"little\",\"shape\":[3]},\"year\":[\"2019\",\"2020\",\"2021\"]},\"selected\":{\"id\":\"2091\"},\"selection_policy\":{\"id\":\"2112\"}},\"id\":\"2090\",\"type\":\"ColumnDataSource\"},{\"attributes\":{\"axis_label\":\"In Millions ($)\",\"coordinates\":null,\"formatter\":{\"id\":\"2103\"},\"group\":null,\"major_label_policy\":{\"id\":\"2104\"},\"ticker\":{\"id\":\"2074\"}},\"id\":\"2073\",\"type\":\"LinearAxis\"},{\"attributes\":{\"margin\":[5,5,5,5],\"name\":\"HSpacer03126\",\"sizing_mode\":\"stretch_width\"},\"id\":\"2057\",\"type\":\"Spacer\"},{\"attributes\":{\"factors\":[\"2019\",\"2020\",\"2021\"],\"tags\":[[[\"year\",\"year\",null]]]},\"id\":\"2058\",\"type\":\"FactorRange\"},{\"attributes\":{\"axis\":{\"id\":\"2073\"},\"coordinates\":null,\"dimension\":1,\"grid_line_color\":null,\"group\":null,\"ticker\":null},\"id\":\"2076\",\"type\":\"Grid\"},{\"attributes\":{\"bottom\":{\"value\":0},\"fill_alpha\":{\"value\":1.0},\"fill_color\":{\"value\":\"Orange\"},\"hatch_alpha\":{\"value\":1.0},\"hatch_color\":{\"value\":\"Orange\"},\"hatch_scale\":{\"value\":12.0},\"hatch_weight\":{\"value\":1.0},\"line_alpha\":{\"value\":1.0},\"line_cap\":{\"value\":\"butt\"},\"line_color\":{\"value\":\"black\"},\"line_dash\":{\"value\":[]},\"line_dash_offset\":{\"value\":0},\"line_join\":{\"value\":\"bevel\"},\"line_width\":{\"value\":1},\"top\":{\"field\":\"growth\"},\"width\":{\"value\":0.8},\"x\":{\"field\":\"year\"}},\"id\":\"2098\",\"type\":\"VBar\"},{\"attributes\":{},\"id\":\"2079\",\"type\":\"WheelZoomTool\"},{\"attributes\":{},\"id\":\"2074\",\"type\":\"BasicTicker\"},{\"attributes\":{\"fill_alpha\":{\"value\":0.1},\"fill_color\":{\"value\":\"Orange\"},\"hatch_alpha\":{\"value\":0.1},\"hatch_color\":{\"value\":\"Orange\"},\"line_alpha\":{\"value\":0.1},\"top\":{\"field\":\"growth\"},\"width\":{\"value\":0.8},\"x\":{\"field\":\"year\"}},\"id\":\"2094\",\"type\":\"VBar\"},{\"attributes\":{},\"id\":\"2078\",\"type\":\"PanTool\"},{\"attributes\":{\"bottom_units\":\"screen\",\"coordinates\":null,\"fill_alpha\":0.5,\"fill_color\":\"lightgrey\",\"group\":null,\"left_units\":\"screen\",\"level\":\"overlay\",\"line_alpha\":1.0,\"line_color\":\"black\",\"line_dash\":[4,4],\"line_width\":2,\"right_units\":\"screen\",\"syncable\":false,\"top_units\":\"screen\"},\"id\":\"2082\",\"type\":\"BoxAnnotation\"},{\"attributes\":{\"children\":[{\"id\":\"2057\"},{\"id\":\"2061\"},{\"id\":\"2125\"}],\"margin\":[0,0,0,0],\"name\":\"Row03122\",\"tags\":[\"embedded\"]},\"id\":\"2056\",\"type\":\"Row\"},{\"attributes\":{\"tools\":[{\"id\":\"2060\"},{\"id\":\"2077\"},{\"id\":\"2078\"},{\"id\":\"2079\"},{\"id\":\"2080\"},{\"id\":\"2081\"}]},\"id\":\"2083\",\"type\":\"Toolbar\"},{\"attributes\":{},\"id\":\"2103\",\"type\":\"BasicTickFormatter\"},{\"attributes\":{\"axis\":{\"id\":\"2070\"},\"coordinates\":null,\"grid_line_color\":null,\"group\":null,\"ticker\":null},\"id\":\"2072\",\"type\":\"Grid\"},{\"attributes\":{\"coordinates\":null,\"data_source\":{\"id\":\"2090\"},\"glyph\":{\"id\":\"2093\"},\"group\":null,\"hover_glyph\":null,\"muted_glyph\":{\"id\":\"2095\"},\"nonselection_glyph\":{\"id\":\"2094\"},\"selection_glyph\":{\"id\":\"2098\"},\"view\":{\"id\":\"2097\"}},\"id\":\"2096\",\"type\":\"GlyphRenderer\"},{\"attributes\":{\"axis_label\":\"Year\",\"coordinates\":null,\"formatter\":{\"id\":\"2100\"},\"group\":null,\"major_label_policy\":{\"id\":\"2101\"},\"ticker\":{\"id\":\"2071\"}},\"id\":\"2070\",\"type\":\"CategoricalAxis\"},{\"attributes\":{},\"id\":\"2077\",\"type\":\"SaveTool\"},{\"attributes\":{},\"id\":\"2071\",\"type\":\"CategoricalTicker\"},{\"attributes\":{},\"id\":\"2081\",\"type\":\"ResetTool\"},{\"attributes\":{\"fill_color\":{\"value\":\"Orange\"},\"hatch_color\":{\"value\":\"Orange\"},\"top\":{\"field\":\"growth\"},\"width\":{\"value\":0.8},\"x\":{\"field\":\"year\"}},\"id\":\"2093\",\"type\":\"VBar\"},{\"attributes\":{},\"id\":\"2101\",\"type\":\"AllLabels\"},{\"attributes\":{},\"id\":\"2112\",\"type\":\"UnionRenderers\"},{\"attributes\":{},\"id\":\"2091\",\"type\":\"Selection\"},{\"attributes\":{\"end\":30.0,\"reset_end\":30.0,\"reset_start\":0.0,\"tags\":[[[\" growth\",\" growth\",null]]]},\"id\":\"2059\",\"type\":\"Range1d\"},{\"attributes\":{\"source\":{\"id\":\"2090\"}},\"id\":\"2097\",\"type\":\"CDSView\"},{\"attributes\":{},\"id\":\"2100\",\"type\":\"CategoricalTickFormatter\"},{\"attributes\":{},\"id\":\"2068\",\"type\":\"LinearScale\"},{\"attributes\":{\"below\":[{\"id\":\"2070\"}],\"center\":[{\"id\":\"2072\"},{\"id\":\"2076\"}],\"height\":500,\"left\":[{\"id\":\"2073\"}],\"margin\":[5,5,5,5],\"min_border_bottom\":10,\"min_border_left\":10,\"min_border_right\":10,\"min_border_top\":10,\"renderers\":[{\"id\":\"2096\"}],\"sizing_mode\":\"fixed\",\"title\":{\"id\":\"2062\"},\"toolbar\":{\"id\":\"2083\"},\"width\":700,\"x_range\":{\"id\":\"2058\"},\"x_scale\":{\"id\":\"2066\"},\"y_range\":{\"id\":\"2059\"},\"y_scale\":{\"id\":\"2068\"}},\"id\":\"2061\",\"subtype\":\"Figure\",\"type\":\"Plot\"},{\"attributes\":{},\"id\":\"2104\",\"type\":\"AllLabels\"}],\"root_ids\":[\"2056\"]},\"title\":\"Bokeh Application\",\"version\":\"2.4.2\"}};\n",
       "    var render_items = [{\"docid\":\"fcae7c68-91dc-4cff-b3e3-245f62b1aaee\",\"root_ids\":[\"2056\"],\"roots\":{\"2056\":\"2b54465a-4651-4653-9b4b-a14569587878\"}}];\n",
       "    root.Bokeh.embed.embed_items_notebook(docs_json, render_items);\n",
       "  }\n",
       "  if (root.Bokeh !== undefined && root.Bokeh.Panel !== undefined) {\n",
       "    embed_document(root);\n",
       "  } else {\n",
       "    var attempts = 0;\n",
       "    var timer = setInterval(function(root) {\n",
       "      if (root.Bokeh !== undefined && root.Bokeh.Panel !== undefined) {\n",
       "        clearInterval(timer);\n",
       "        embed_document(root);\n",
       "      } else if (document.readyState == \"complete\") {\n",
       "        attempts++;\n",
       "        if (attempts > 200) {\n",
       "          clearInterval(timer);\n",
       "          console.log(\"Bokeh: ERROR: Unable to run BokehJS code because BokehJS library is missing\");\n",
       "        }\n",
       "      }\n",
       "    }, 25, root)\n",
       "  }\n",
       "})(window);</script>"
      ],
      "text/plain": [
       ":Bars   [year]   ( growth)"
      ]
     },
     "execution_count": 62,
     "metadata": {
      "application/vnd.holoviews_exec.v0+json": {
       "id": "2056"
      }
     },
     "output_type": "execute_result"
    }
   ],
   "source": [
    "# Bar chart for crypto dataframe\n",
    "\n",
    "crypto_bar_chart = create_bar_chart(crypto_df,\"Cryptocurrency User Growth (in Years)\", \"Year\", \"In Millions ($)\", \"Orange\")\n",
    "crypto_bar_chart"
   ]
  },
  {
   "cell_type": "code",
   "execution_count": 63,
   "id": "8652289c",
   "metadata": {},
   "outputs": [
    {
     "data": {},
     "metadata": {},
     "output_type": "display_data"
    },
    {
     "data": {
      "application/vnd.holoviews_exec.v0+json": "",
      "text/html": [
       "<div id='2177'>\n",
       "\n",
       "\n",
       "\n",
       "\n",
       "\n",
       "  <div class=\"bk-root\" id=\"4b505755-df99-4e2f-9a1c-bef4fcc97d17\" data-root-id=\"2177\"></div>\n",
       "</div>\n",
       "<script type=\"application/javascript\">(function(root) {\n",
       "  function embed_document(root) {\n",
       "    var docs_json = {\"5c8b50c5-26d4-4af0-8ad4-382d0425b6e4\":{\"defs\":[{\"extends\":null,\"module\":null,\"name\":\"ReactiveHTML1\",\"overrides\":[],\"properties\":[]},{\"extends\":null,\"module\":null,\"name\":\"FlexBox1\",\"overrides\":[],\"properties\":[{\"default\":\"flex-start\",\"kind\":null,\"name\":\"align_content\"},{\"default\":\"flex-start\",\"kind\":null,\"name\":\"align_items\"},{\"default\":\"row\",\"kind\":null,\"name\":\"flex_direction\"},{\"default\":\"wrap\",\"kind\":null,\"name\":\"flex_wrap\"},{\"default\":\"flex-start\",\"kind\":null,\"name\":\"justify_content\"}]},{\"extends\":null,\"module\":null,\"name\":\"TemplateActions1\",\"overrides\":[],\"properties\":[{\"default\":0,\"kind\":null,\"name\":\"open_modal\"},{\"default\":0,\"kind\":null,\"name\":\"close_modal\"}]},{\"extends\":null,\"module\":null,\"name\":\"MaterialTemplateActions1\",\"overrides\":[],\"properties\":[{\"default\":0,\"kind\":null,\"name\":\"open_modal\"},{\"default\":0,\"kind\":null,\"name\":\"close_modal\"}]}],\"roots\":{\"references\":[{\"attributes\":{\"end\":21790000.0,\"reset_end\":21790000.0,\"reset_start\":0.0,\"tags\":[[[\"no_of_users\",\"no_of_users\",null]]]},\"id\":\"2180\",\"type\":\"Range1d\"},{\"attributes\":{\"margin\":[5,5,5,5],\"name\":\"HSpacer03319\",\"sizing_mode\":\"stretch_width\"},\"id\":\"2178\",\"type\":\"Spacer\"},{\"attributes\":{\"axis\":{\"id\":\"2194\"},\"coordinates\":null,\"dimension\":1,\"grid_line_color\":null,\"group\":null,\"ticker\":null},\"id\":\"2197\",\"type\":\"Grid\"},{\"attributes\":{},\"id\":\"2226\",\"type\":\"AllLabels\"},{\"attributes\":{},\"id\":\"2195\",\"type\":\"BasicTicker\"},{\"attributes\":{\"axis_label\":\"Number of people\",\"coordinates\":null,\"formatter\":{\"id\":\"2220\"},\"group\":null,\"major_label_policy\":{\"id\":\"2226\"},\"ticker\":{\"id\":\"2195\"}},\"id\":\"2194\",\"type\":\"LinearAxis\"},{\"attributes\":{\"callback\":null,\"renderers\":[{\"id\":\"2217\"}],\"tags\":[\"hv_created\"],\"tooltips\":[[\"year\",\"@{year}\"],[\"no_of_users\",\"@{no_of_users}\"]]},\"id\":\"2181\",\"type\":\"HoverTool\"},{\"attributes\":{\"format\":\"%.0f\"},\"id\":\"2220\",\"type\":\"PrintfTickFormatter\"},{\"attributes\":{\"children\":[{\"id\":\"2178\"},{\"id\":\"2182\"},{\"id\":\"2247\"}],\"margin\":[0,0,0,0],\"name\":\"Row03315\",\"tags\":[\"embedded\"]},\"id\":\"2177\",\"type\":\"Row\"},{\"attributes\":{},\"id\":\"2223\",\"type\":\"AllLabels\"},{\"attributes\":{},\"id\":\"2192\",\"type\":\"CategoricalTicker\"},{\"attributes\":{\"fill_alpha\":{\"value\":0.1},\"fill_color\":{\"value\":\"hotpink\"},\"hatch_alpha\":{\"value\":0.1},\"hatch_color\":{\"value\":\"hotpink\"},\"line_alpha\":{\"value\":0.1},\"top\":{\"field\":\"no_of_users\"},\"width\":{\"value\":0.8},\"x\":{\"field\":\"year\"}},\"id\":\"2215\",\"type\":\"VBar\"},{\"attributes\":{},\"id\":\"2212\",\"type\":\"Selection\"},{\"attributes\":{\"coordinates\":null,\"data_source\":{\"id\":\"2211\"},\"glyph\":{\"id\":\"2214\"},\"group\":null,\"hover_glyph\":null,\"muted_glyph\":{\"id\":\"2216\"},\"nonselection_glyph\":{\"id\":\"2215\"},\"selection_glyph\":{\"id\":\"2219\"},\"view\":{\"id\":\"2218\"}},\"id\":\"2217\",\"type\":\"GlyphRenderer\"},{\"attributes\":{\"axis_label\":\"Years\",\"coordinates\":null,\"formatter\":{\"id\":\"2222\"},\"group\":null,\"major_label_policy\":{\"id\":\"2223\"},\"ticker\":{\"id\":\"2192\"}},\"id\":\"2191\",\"type\":\"CategoricalAxis\"},{\"attributes\":{\"margin\":[5,5,5,5],\"name\":\"HSpacer03320\",\"sizing_mode\":\"stretch_width\"},\"id\":\"2247\",\"type\":\"Spacer\"},{\"attributes\":{},\"id\":\"2222\",\"type\":\"CategoricalTickFormatter\"},{\"attributes\":{\"below\":[{\"id\":\"2191\"}],\"center\":[{\"id\":\"2193\"},{\"id\":\"2197\"}],\"height\":500,\"left\":[{\"id\":\"2194\"}],\"margin\":[5,5,5,5],\"min_border_bottom\":10,\"min_border_left\":10,\"min_border_right\":10,\"min_border_top\":10,\"renderers\":[{\"id\":\"2217\"}],\"sizing_mode\":\"fixed\",\"title\":{\"id\":\"2183\"},\"toolbar\":{\"id\":\"2204\"},\"width\":700,\"x_range\":{\"id\":\"2179\"},\"x_scale\":{\"id\":\"2187\"},\"y_range\":{\"id\":\"2180\"},\"y_scale\":{\"id\":\"2189\"}},\"id\":\"2182\",\"subtype\":\"Figure\",\"type\":\"Plot\"},{\"attributes\":{\"tools\":[{\"id\":\"2181\"},{\"id\":\"2198\"},{\"id\":\"2199\"},{\"id\":\"2200\"},{\"id\":\"2201\"},{\"id\":\"2202\"}]},\"id\":\"2204\",\"type\":\"Toolbar\"},{\"attributes\":{\"source\":{\"id\":\"2211\"}},\"id\":\"2218\",\"type\":\"CDSView\"},{\"attributes\":{\"bottom_units\":\"screen\",\"coordinates\":null,\"fill_alpha\":0.5,\"fill_color\":\"lightgrey\",\"group\":null,\"left_units\":\"screen\",\"level\":\"overlay\",\"line_alpha\":1.0,\"line_color\":\"black\",\"line_dash\":[4,4],\"line_width\":2,\"right_units\":\"screen\",\"syncable\":false,\"top_units\":\"screen\"},\"id\":\"2203\",\"type\":\"BoxAnnotation\"},{\"attributes\":{\"data\":{\"no_of_users\":[18600000,19600000,20000000,20500000,20600000,20800000,21100000,21300000,21500000],\"year\":[\"2017\",\"2018\",\"2019\",\"2020\",\"2021\",\"2022\",\"2023\",\"2024\",\"2025\"]},\"selected\":{\"id\":\"2212\"},\"selection_policy\":{\"id\":\"2235\"}},\"id\":\"2211\",\"type\":\"ColumnDataSource\"},{\"attributes\":{},\"id\":\"2198\",\"type\":\"SaveTool\"},{\"attributes\":{},\"id\":\"2199\",\"type\":\"PanTool\"},{\"attributes\":{},\"id\":\"2202\",\"type\":\"ResetTool\"},{\"attributes\":{\"fill_alpha\":{\"value\":0.2},\"fill_color\":{\"value\":\"hotpink\"},\"hatch_alpha\":{\"value\":0.2},\"hatch_color\":{\"value\":\"hotpink\"},\"line_alpha\":{\"value\":0.2},\"top\":{\"field\":\"no_of_users\"},\"width\":{\"value\":0.8},\"x\":{\"field\":\"year\"}},\"id\":\"2216\",\"type\":\"VBar\"},{\"attributes\":{},\"id\":\"2200\",\"type\":\"WheelZoomTool\"},{\"attributes\":{\"coordinates\":null,\"group\":null,\"text\":\"Number of people using smartphones\",\"text_color\":\"black\",\"text_font_size\":\"12pt\"},\"id\":\"2183\",\"type\":\"Title\"},{\"attributes\":{\"fill_color\":{\"value\":\"hotpink\"},\"hatch_color\":{\"value\":\"hotpink\"},\"top\":{\"field\":\"no_of_users\"},\"width\":{\"value\":0.8},\"x\":{\"field\":\"year\"}},\"id\":\"2214\",\"type\":\"VBar\"},{\"attributes\":{\"overlay\":{\"id\":\"2203\"}},\"id\":\"2201\",\"type\":\"BoxZoomTool\"},{\"attributes\":{},\"id\":\"2187\",\"type\":\"CategoricalScale\"},{\"attributes\":{},\"id\":\"2235\",\"type\":\"UnionRenderers\"},{\"attributes\":{},\"id\":\"2189\",\"type\":\"LinearScale\"},{\"attributes\":{\"bottom\":{\"value\":0},\"fill_alpha\":{\"value\":1.0},\"fill_color\":{\"value\":\"hotpink\"},\"hatch_alpha\":{\"value\":1.0},\"hatch_color\":{\"value\":\"hotpink\"},\"hatch_scale\":{\"value\":12.0},\"hatch_weight\":{\"value\":1.0},\"line_alpha\":{\"value\":1.0},\"line_cap\":{\"value\":\"butt\"},\"line_color\":{\"value\":\"black\"},\"line_dash\":{\"value\":[]},\"line_dash_offset\":{\"value\":0},\"line_join\":{\"value\":\"bevel\"},\"line_width\":{\"value\":1},\"top\":{\"field\":\"no_of_users\"},\"width\":{\"value\":0.8},\"x\":{\"field\":\"year\"}},\"id\":\"2219\",\"type\":\"VBar\"},{\"attributes\":{\"axis\":{\"id\":\"2191\"},\"coordinates\":null,\"grid_line_color\":null,\"group\":null,\"ticker\":null},\"id\":\"2193\",\"type\":\"Grid\"},{\"attributes\":{\"factors\":[\"2017\",\"2018\",\"2019\",\"2020\",\"2021\",\"2022\",\"2023\",\"2024\",\"2025\"],\"tags\":[[[\"year\",\"year\",null]]]},\"id\":\"2179\",\"type\":\"FactorRange\"}],\"root_ids\":[\"2177\"]},\"title\":\"Bokeh Application\",\"version\":\"2.4.2\"}};\n",
       "    var render_items = [{\"docid\":\"5c8b50c5-26d4-4af0-8ad4-382d0425b6e4\",\"root_ids\":[\"2177\"],\"roots\":{\"2177\":\"4b505755-df99-4e2f-9a1c-bef4fcc97d17\"}}];\n",
       "    root.Bokeh.embed.embed_items_notebook(docs_json, render_items);\n",
       "  }\n",
       "  if (root.Bokeh !== undefined && root.Bokeh.Panel !== undefined) {\n",
       "    embed_document(root);\n",
       "  } else {\n",
       "    var attempts = 0;\n",
       "    var timer = setInterval(function(root) {\n",
       "      if (root.Bokeh !== undefined && root.Bokeh.Panel !== undefined) {\n",
       "        clearInterval(timer);\n",
       "        embed_document(root);\n",
       "      } else if (document.readyState == \"complete\") {\n",
       "        attempts++;\n",
       "        if (attempts > 200) {\n",
       "          clearInterval(timer);\n",
       "          console.log(\"Bokeh: ERROR: Unable to run BokehJS code because BokehJS library is missing\");\n",
       "        }\n",
       "      }\n",
       "    }, 25, root)\n",
       "  }\n",
       "})(window);</script>"
      ],
      "text/plain": [
       ":Bars   [year]   (no_of_users)"
      ]
     },
     "execution_count": 63,
     "metadata": {
      "application/vnd.holoviews_exec.v0+json": {
       "id": "2177"
      }
     },
     "output_type": "execute_result"
    }
   ],
   "source": [
    "smart_users_chart =  create_bar_chart(smart_df,\"Number of people using smartphones\",\"Years\",\"Number of people\",\"hotpink\").opts(yformatter=\"%.0f\")\n",
    "smart_users_chart"
   ]
  },
  {
   "cell_type": "code",
   "execution_count": 45,
   "id": "5ed7290a",
   "metadata": {},
   "outputs": [
    {
     "data": {},
     "metadata": {},
     "output_type": "display_data"
    },
    {
     "data": {
      "application/vnd.holoviews_exec.v0+json": "",
      "text/html": [
       "<div id='1365'>\n",
       "\n",
       "\n",
       "\n",
       "\n",
       "\n",
       "  <div class=\"bk-root\" id=\"19ebdd8b-0d4b-48bc-80b9-30bd18c49bc6\" data-root-id=\"1365\"></div>\n",
       "</div>\n",
       "<script type=\"application/javascript\">(function(root) {\n",
       "  function embed_document(root) {\n",
       "    var docs_json = {\"c8ddc753-ebe2-4f90-aae8-2055e80a4125\":{\"defs\":[{\"extends\":null,\"module\":null,\"name\":\"ReactiveHTML1\",\"overrides\":[],\"properties\":[]},{\"extends\":null,\"module\":null,\"name\":\"FlexBox1\",\"overrides\":[],\"properties\":[{\"default\":\"flex-start\",\"kind\":null,\"name\":\"align_content\"},{\"default\":\"flex-start\",\"kind\":null,\"name\":\"align_items\"},{\"default\":\"row\",\"kind\":null,\"name\":\"flex_direction\"},{\"default\":\"wrap\",\"kind\":null,\"name\":\"flex_wrap\"},{\"default\":\"flex-start\",\"kind\":null,\"name\":\"justify_content\"}]},{\"extends\":null,\"module\":null,\"name\":\"TemplateActions1\",\"overrides\":[],\"properties\":[{\"default\":0,\"kind\":null,\"name\":\"open_modal\"},{\"default\":0,\"kind\":null,\"name\":\"close_modal\"}]},{\"extends\":null,\"module\":null,\"name\":\"MaterialTemplateActions1\",\"overrides\":[],\"properties\":[{\"default\":0,\"kind\":null,\"name\":\"open_modal\"},{\"default\":0,\"kind\":null,\"name\":\"close_modal\"}]}],\"roots\":{\"references\":[{\"attributes\":{},\"id\":\"1386\",\"type\":\"SaveTool\"},{\"attributes\":{\"axis_label\":\"Year\",\"coordinates\":null,\"formatter\":{\"id\":\"1409\"},\"group\":null,\"major_label_policy\":{\"id\":\"1410\"},\"ticker\":{\"id\":\"1380\"}},\"id\":\"1379\",\"type\":\"CategoricalAxis\"},{\"attributes\":{},\"id\":\"1387\",\"type\":\"PanTool\"},{\"attributes\":{},\"id\":\"1390\",\"type\":\"ResetTool\"},{\"attributes\":{},\"id\":\"1388\",\"type\":\"WheelZoomTool\"},{\"attributes\":{\"coordinates\":null,\"group\":null,\"text\":\"Number of Gym Establishments (in Years)\",\"text_color\":\"black\",\"text_font_size\":\"12pt\"},\"id\":\"1371\",\"type\":\"Title\"},{\"attributes\":{\"overlay\":{\"id\":\"1391\"}},\"id\":\"1389\",\"type\":\"BoxZoomTool\"},{\"attributes\":{\"axis\":{\"id\":\"1379\"},\"coordinates\":null,\"grid_line_color\":null,\"group\":null,\"ticker\":null},\"id\":\"1381\",\"type\":\"Grid\"},{\"attributes\":{},\"id\":\"1375\",\"type\":\"CategoricalScale\"},{\"attributes\":{\"children\":[{\"id\":\"1366\"},{\"id\":\"1370\"},{\"id\":\"1434\"}],\"margin\":[0,0,0,0],\"name\":\"Row02097\",\"tags\":[\"embedded\"]},\"id\":\"1365\",\"type\":\"Row\"},{\"attributes\":{\"end\":5440.0,\"reset_end\":5440.0,\"reset_start\":0.0,\"tags\":[[[\"no_of_gyms\",\"no_of_gyms\",null]]]},\"id\":\"1368\",\"type\":\"Range1d\"},{\"attributes\":{},\"id\":\"1410\",\"type\":\"AllLabels\"},{\"attributes\":{},\"id\":\"1421\",\"type\":\"UnionRenderers\"},{\"attributes\":{},\"id\":\"1377\",\"type\":\"LinearScale\"},{\"attributes\":{\"callback\":null,\"renderers\":[{\"id\":\"1405\"}],\"tags\":[\"hv_created\"],\"tooltips\":[[\"year\",\"@{year}\"],[\"no_of_gyms\",\"@{no_of_gyms}\"]]},\"id\":\"1369\",\"type\":\"HoverTool\"},{\"attributes\":{},\"id\":\"1380\",\"type\":\"CategoricalTicker\"},{\"attributes\":{\"bottom_units\":\"screen\",\"coordinates\":null,\"fill_alpha\":0.5,\"fill_color\":\"lightgrey\",\"group\":null,\"left_units\":\"screen\",\"level\":\"overlay\",\"line_alpha\":1.0,\"line_color\":\"black\",\"line_dash\":[4,4],\"line_width\":2,\"right_units\":\"screen\",\"syncable\":false,\"top_units\":\"screen\"},\"id\":\"1391\",\"type\":\"BoxAnnotation\"},{\"attributes\":{\"axis\":{\"id\":\"1382\"},\"coordinates\":null,\"dimension\":1,\"grid_line_color\":null,\"group\":null,\"ticker\":null},\"id\":\"1385\",\"type\":\"Grid\"},{\"attributes\":{\"fill_color\":{\"value\":\"Royalblue\"},\"hatch_color\":{\"value\":\"Royalblue\"},\"top\":{\"field\":\"no_of_gyms\"},\"width\":{\"value\":0.8},\"x\":{\"field\":\"year\"}},\"id\":\"1402\",\"type\":\"VBar\"},{\"attributes\":{},\"id\":\"1383\",\"type\":\"BasicTicker\"},{\"attributes\":{\"axis_label\":\"Number of gyms\",\"coordinates\":null,\"formatter\":{\"id\":\"1412\"},\"group\":null,\"major_label_policy\":{\"id\":\"1413\"},\"ticker\":{\"id\":\"1383\"}},\"id\":\"1382\",\"type\":\"LinearAxis\"},{\"attributes\":{\"fill_alpha\":{\"value\":0.2},\"fill_color\":{\"value\":\"Royalblue\"},\"hatch_alpha\":{\"value\":0.2},\"hatch_color\":{\"value\":\"Royalblue\"},\"line_alpha\":{\"value\":0.2},\"top\":{\"field\":\"no_of_gyms\"},\"width\":{\"value\":0.8},\"x\":{\"field\":\"year\"}},\"id\":\"1404\",\"type\":\"VBar\"},{\"attributes\":{},\"id\":\"1409\",\"type\":\"CategoricalTickFormatter\"},{\"attributes\":{\"source\":{\"id\":\"1399\"}},\"id\":\"1406\",\"type\":\"CDSView\"},{\"attributes\":{\"data\":{\"no_of_gyms\":[3900,4400,4800,5000,5300],\"year\":[\"2016\",\"2017\",\"2018\",\"2019\",\"2020\"]},\"selected\":{\"id\":\"1400\"},\"selection_policy\":{\"id\":\"1421\"}},\"id\":\"1399\",\"type\":\"ColumnDataSource\"},{\"attributes\":{\"margin\":[5,5,5,5],\"name\":\"HSpacer02101\",\"sizing_mode\":\"stretch_width\"},\"id\":\"1366\",\"type\":\"Spacer\"},{\"attributes\":{\"fill_alpha\":{\"value\":0.1},\"fill_color\":{\"value\":\"Royalblue\"},\"hatch_alpha\":{\"value\":0.1},\"hatch_color\":{\"value\":\"Royalblue\"},\"line_alpha\":{\"value\":0.1},\"top\":{\"field\":\"no_of_gyms\"},\"width\":{\"value\":0.8},\"x\":{\"field\":\"year\"}},\"id\":\"1403\",\"type\":\"VBar\"},{\"attributes\":{},\"id\":\"1400\",\"type\":\"Selection\"},{\"attributes\":{},\"id\":\"1413\",\"type\":\"AllLabels\"},{\"attributes\":{\"coordinates\":null,\"data_source\":{\"id\":\"1399\"},\"glyph\":{\"id\":\"1402\"},\"group\":null,\"hover_glyph\":null,\"muted_glyph\":{\"id\":\"1404\"},\"nonselection_glyph\":{\"id\":\"1403\"},\"selection_glyph\":{\"id\":\"1407\"},\"view\":{\"id\":\"1406\"}},\"id\":\"1405\",\"type\":\"GlyphRenderer\"},{\"attributes\":{},\"id\":\"1412\",\"type\":\"BasicTickFormatter\"},{\"attributes\":{\"bottom\":{\"value\":0},\"fill_alpha\":{\"value\":1.0},\"fill_color\":{\"value\":\"Royalblue\"},\"hatch_alpha\":{\"value\":1.0},\"hatch_color\":{\"value\":\"Royalblue\"},\"hatch_scale\":{\"value\":12.0},\"hatch_weight\":{\"value\":1.0},\"line_alpha\":{\"value\":1.0},\"line_cap\":{\"value\":\"butt\"},\"line_color\":{\"value\":\"black\"},\"line_dash\":{\"value\":[]},\"line_dash_offset\":{\"value\":0},\"line_join\":{\"value\":\"bevel\"},\"line_width\":{\"value\":1},\"top\":{\"field\":\"no_of_gyms\"},\"width\":{\"value\":0.8},\"x\":{\"field\":\"year\"}},\"id\":\"1407\",\"type\":\"VBar\"},{\"attributes\":{\"below\":[{\"id\":\"1379\"}],\"center\":[{\"id\":\"1381\"},{\"id\":\"1385\"}],\"height\":500,\"left\":[{\"id\":\"1382\"}],\"margin\":[5,5,5,5],\"min_border_bottom\":10,\"min_border_left\":10,\"min_border_right\":10,\"min_border_top\":10,\"renderers\":[{\"id\":\"1405\"}],\"sizing_mode\":\"fixed\",\"title\":{\"id\":\"1371\"},\"toolbar\":{\"id\":\"1392\"},\"width\":700,\"x_range\":{\"id\":\"1367\"},\"x_scale\":{\"id\":\"1375\"},\"y_range\":{\"id\":\"1368\"},\"y_scale\":{\"id\":\"1377\"}},\"id\":\"1370\",\"subtype\":\"Figure\",\"type\":\"Plot\"},{\"attributes\":{\"factors\":[\"2016\",\"2017\",\"2018\",\"2019\",\"2020\"],\"tags\":[[[\"year\",\"year\",null]]]},\"id\":\"1367\",\"type\":\"FactorRange\"},{\"attributes\":{\"tools\":[{\"id\":\"1369\"},{\"id\":\"1386\"},{\"id\":\"1387\"},{\"id\":\"1388\"},{\"id\":\"1389\"},{\"id\":\"1390\"}]},\"id\":\"1392\",\"type\":\"Toolbar\"},{\"attributes\":{\"margin\":[5,5,5,5],\"name\":\"HSpacer02102\",\"sizing_mode\":\"stretch_width\"},\"id\":\"1434\",\"type\":\"Spacer\"}],\"root_ids\":[\"1365\"]},\"title\":\"Bokeh Application\",\"version\":\"2.4.2\"}};\n",
       "    var render_items = [{\"docid\":\"c8ddc753-ebe2-4f90-aae8-2055e80a4125\",\"root_ids\":[\"1365\"],\"roots\":{\"1365\":\"19ebdd8b-0d4b-48bc-80b9-30bd18c49bc6\"}}];\n",
       "    root.Bokeh.embed.embed_items_notebook(docs_json, render_items);\n",
       "  }\n",
       "  if (root.Bokeh !== undefined && root.Bokeh.Panel !== undefined) {\n",
       "    embed_document(root);\n",
       "  } else {\n",
       "    var attempts = 0;\n",
       "    var timer = setInterval(function(root) {\n",
       "      if (root.Bokeh !== undefined && root.Bokeh.Panel !== undefined) {\n",
       "        clearInterval(timer);\n",
       "        embed_document(root);\n",
       "      } else if (document.readyState == \"complete\") {\n",
       "        attempts++;\n",
       "        if (attempts > 200) {\n",
       "          clearInterval(timer);\n",
       "          console.log(\"Bokeh: ERROR: Unable to run BokehJS code because BokehJS library is missing\");\n",
       "        }\n",
       "      }\n",
       "    }, 25, root)\n",
       "  }\n",
       "})(window);</script>"
      ],
      "text/plain": [
       ":Bars   [year]   (no_of_gyms)"
      ]
     },
     "execution_count": 45,
     "metadata": {
      "application/vnd.holoviews_exec.v0+json": {
       "id": "1365"
      }
     },
     "output_type": "execute_result"
    }
   ],
   "source": [
    "# Bar chart for gym establishments dataframe\n",
    "\n",
    "gym_est_chart = create_bar_chart(gym_est_df,\"Number of Gym Establishments (in Years)\",\"Year\",\"Number of gyms\",\"Royalblue\")\n",
    "gym_est_chart"
   ]
  },
  {
   "cell_type": "code",
   "execution_count": 46,
   "id": "7888dcd0",
   "metadata": {},
   "outputs": [],
   "source": [
    "# Pygal Chart for gym establishments dataframe\n",
    "\n",
    "gym_est_chart_pygal = pygal.Bar()\n",
    "gym_est_chart_pygal.add('Gyms Open', [3900, 4400,4800,5000,5300])\n",
    "gym_est_chart_pygal.x_labels = (2016,2017,2018,2019,2020)\n",
    "gym_est_chart_pygal.render_to_file('gym_est_chart_pygal.svg')"
   ]
  },
  {
   "cell_type": "code",
   "execution_count": 47,
   "id": "da228480",
   "metadata": {},
   "outputs": [
    {
     "data": {},
     "metadata": {},
     "output_type": "display_data"
    },
    {
     "data": {
      "application/vnd.holoviews_exec.v0+json": "",
      "text/html": [
       "<div id='1486'>\n",
       "\n",
       "\n",
       "\n",
       "\n",
       "\n",
       "  <div class=\"bk-root\" id=\"0ccf0ea9-98b2-4575-9f7b-9630f9d786e6\" data-root-id=\"1486\"></div>\n",
       "</div>\n",
       "<script type=\"application/javascript\">(function(root) {\n",
       "  function embed_document(root) {\n",
       "    var docs_json = {\"0b1ffc10-d11f-42eb-b5c0-0efd9c230f8b\":{\"defs\":[{\"extends\":null,\"module\":null,\"name\":\"ReactiveHTML1\",\"overrides\":[],\"properties\":[]},{\"extends\":null,\"module\":null,\"name\":\"FlexBox1\",\"overrides\":[],\"properties\":[{\"default\":\"flex-start\",\"kind\":null,\"name\":\"align_content\"},{\"default\":\"flex-start\",\"kind\":null,\"name\":\"align_items\"},{\"default\":\"row\",\"kind\":null,\"name\":\"flex_direction\"},{\"default\":\"wrap\",\"kind\":null,\"name\":\"flex_wrap\"},{\"default\":\"flex-start\",\"kind\":null,\"name\":\"justify_content\"}]},{\"extends\":null,\"module\":null,\"name\":\"TemplateActions1\",\"overrides\":[],\"properties\":[{\"default\":0,\"kind\":null,\"name\":\"open_modal\"},{\"default\":0,\"kind\":null,\"name\":\"close_modal\"}]},{\"extends\":null,\"module\":null,\"name\":\"MaterialTemplateActions1\",\"overrides\":[],\"properties\":[{\"default\":0,\"kind\":null,\"name\":\"open_modal\"},{\"default\":0,\"kind\":null,\"name\":\"close_modal\"}]}],\"roots\":{\"references\":[{\"attributes\":{\"source\":{\"id\":\"1520\"}},\"id\":\"1527\",\"type\":\"CDSView\"},{\"attributes\":{\"axis\":{\"id\":\"1500\"},\"coordinates\":null,\"grid_line_color\":null,\"group\":null,\"ticker\":null},\"id\":\"1502\",\"type\":\"Grid\"},{\"attributes\":{\"axis_label\":\"Age Group\",\"coordinates\":null,\"formatter\":{\"id\":\"1531\"},\"group\":null,\"major_label_policy\":{\"id\":\"1532\"},\"ticker\":{\"id\":\"1501\"}},\"id\":\"1500\",\"type\":\"CategoricalAxis\"},{\"attributes\":{\"coordinates\":null,\"group\":null,\"text\":\"Number of Gym Users (2021)\",\"text_color\":\"black\",\"text_font_size\":\"12pt\"},\"id\":\"1492\",\"type\":\"Title\"},{\"attributes\":{\"bottom\":{\"value\":0},\"fill_alpha\":{\"value\":1.0},\"fill_color\":{\"value\":\"green\"},\"hatch_alpha\":{\"value\":1.0},\"hatch_color\":{\"value\":\"green\"},\"hatch_scale\":{\"value\":12.0},\"hatch_weight\":{\"value\":1.0},\"line_alpha\":{\"value\":1.0},\"line_cap\":{\"value\":\"butt\"},\"line_color\":{\"value\":\"black\"},\"line_dash\":{\"value\":[]},\"line_dash_offset\":{\"value\":0},\"line_join\":{\"value\":\"bevel\"},\"line_width\":{\"value\":1},\"top\":{\"field\":\"number_of_people\"},\"width\":{\"value\":0.8},\"x\":{\"field\":\"age\"}},\"id\":\"1528\",\"type\":\"VBar\"},{\"attributes\":{\"margin\":[5,5,5,5],\"name\":\"HSpacer02294\",\"sizing_mode\":\"stretch_width\"},\"id\":\"1487\",\"type\":\"Spacer\"},{\"attributes\":{\"overlay\":{\"id\":\"1512\"}},\"id\":\"1510\",\"type\":\"BoxZoomTool\"},{\"attributes\":{},\"id\":\"1498\",\"type\":\"LinearScale\"},{\"attributes\":{\"end\":1865700.0,\"reset_end\":1865700.0,\"reset_start\":0.0,\"tags\":[[[\"number_of_people\",\"number_of_people\",null]]]},\"id\":\"1489\",\"type\":\"Range1d\"},{\"attributes\":{},\"id\":\"1504\",\"type\":\"BasicTicker\"},{\"attributes\":{},\"id\":\"1501\",\"type\":\"CategoricalTicker\"},{\"attributes\":{},\"id\":\"1544\",\"type\":\"UnionRenderers\"},{\"attributes\":{\"axis_label\":\"Number of people\",\"coordinates\":null,\"formatter\":{\"id\":\"1529\"},\"group\":null,\"major_label_policy\":{\"id\":\"1535\"},\"ticker\":{\"id\":\"1504\"}},\"id\":\"1503\",\"type\":\"LinearAxis\"},{\"attributes\":{\"axis\":{\"id\":\"1503\"},\"coordinates\":null,\"dimension\":1,\"grid_line_color\":null,\"group\":null,\"ticker\":null},\"id\":\"1506\",\"type\":\"Grid\"},{\"attributes\":{\"callback\":null,\"renderers\":[{\"id\":\"1526\"}],\"tags\":[\"hv_created\"],\"tooltips\":[[\"age\",\"@{age}\"],[\"number_of_people\",\"@{number_of_people}\"]]},\"id\":\"1490\",\"type\":\"HoverTool\"},{\"attributes\":{\"format\":\"%.0f\"},\"id\":\"1529\",\"type\":\"PrintfTickFormatter\"},{\"attributes\":{\"children\":[{\"id\":\"1487\"},{\"id\":\"1491\"},{\"id\":\"1556\"}],\"margin\":[0,0,0,0],\"name\":\"Row02290\",\"tags\":[\"embedded\"]},\"id\":\"1486\",\"type\":\"Row\"},{\"attributes\":{\"fill_color\":{\"value\":\"green\"},\"hatch_color\":{\"value\":\"green\"},\"top\":{\"field\":\"number_of_people\"},\"width\":{\"value\":0.8},\"x\":{\"field\":\"age\"}},\"id\":\"1523\",\"type\":\"VBar\"},{\"attributes\":{\"data\":{\"age\":[\"15-17\",\"18-24\",\"25-35\",\"35-44\",\"45-54\",\"55-64\",\"65-120\"],\"number_of_people\":[263000,1103000,1720000,1367000,1151000,948000,1312000]},\"selected\":{\"id\":\"1521\"},\"selection_policy\":{\"id\":\"1544\"}},\"id\":\"1520\",\"type\":\"ColumnDataSource\"},{\"attributes\":{\"margin\":[5,5,5,5],\"name\":\"HSpacer02295\",\"sizing_mode\":\"stretch_width\"},\"id\":\"1556\",\"type\":\"Spacer\"},{\"attributes\":{},\"id\":\"1531\",\"type\":\"CategoricalTickFormatter\"},{\"attributes\":{\"coordinates\":null,\"data_source\":{\"id\":\"1520\"},\"glyph\":{\"id\":\"1523\"},\"group\":null,\"hover_glyph\":null,\"muted_glyph\":{\"id\":\"1525\"},\"nonselection_glyph\":{\"id\":\"1524\"},\"selection_glyph\":{\"id\":\"1528\"},\"view\":{\"id\":\"1527\"}},\"id\":\"1526\",\"type\":\"GlyphRenderer\"},{\"attributes\":{},\"id\":\"1535\",\"type\":\"AllLabels\"},{\"attributes\":{\"factors\":[\"15-17\",\"18-24\",\"25-35\",\"35-44\",\"45-54\",\"55-64\",\"65-120\"],\"tags\":[[[\"age\",\"age\",null]]]},\"id\":\"1488\",\"type\":\"FactorRange\"},{\"attributes\":{\"tools\":[{\"id\":\"1490\"},{\"id\":\"1507\"},{\"id\":\"1508\"},{\"id\":\"1509\"},{\"id\":\"1510\"},{\"id\":\"1511\"}]},\"id\":\"1513\",\"type\":\"Toolbar\"},{\"attributes\":{},\"id\":\"1521\",\"type\":\"Selection\"},{\"attributes\":{\"bottom_units\":\"screen\",\"coordinates\":null,\"fill_alpha\":0.5,\"fill_color\":\"lightgrey\",\"group\":null,\"left_units\":\"screen\",\"level\":\"overlay\",\"line_alpha\":1.0,\"line_color\":\"black\",\"line_dash\":[4,4],\"line_width\":2,\"right_units\":\"screen\",\"syncable\":false,\"top_units\":\"screen\"},\"id\":\"1512\",\"type\":\"BoxAnnotation\"},{\"attributes\":{},\"id\":\"1496\",\"type\":\"CategoricalScale\"},{\"attributes\":{},\"id\":\"1507\",\"type\":\"SaveTool\"},{\"attributes\":{},\"id\":\"1508\",\"type\":\"PanTool\"},{\"attributes\":{},\"id\":\"1511\",\"type\":\"ResetTool\"},{\"attributes\":{\"below\":[{\"id\":\"1500\"}],\"center\":[{\"id\":\"1502\"},{\"id\":\"1506\"}],\"height\":500,\"left\":[{\"id\":\"1503\"}],\"margin\":[5,5,5,5],\"min_border_bottom\":10,\"min_border_left\":10,\"min_border_right\":10,\"min_border_top\":10,\"renderers\":[{\"id\":\"1526\"}],\"sizing_mode\":\"fixed\",\"title\":{\"id\":\"1492\"},\"toolbar\":{\"id\":\"1513\"},\"width\":700,\"x_range\":{\"id\":\"1488\"},\"x_scale\":{\"id\":\"1496\"},\"y_range\":{\"id\":\"1489\"},\"y_scale\":{\"id\":\"1498\"}},\"id\":\"1491\",\"subtype\":\"Figure\",\"type\":\"Plot\"},{\"attributes\":{\"fill_alpha\":{\"value\":0.1},\"fill_color\":{\"value\":\"green\"},\"hatch_alpha\":{\"value\":0.1},\"hatch_color\":{\"value\":\"green\"},\"line_alpha\":{\"value\":0.1},\"top\":{\"field\":\"number_of_people\"},\"width\":{\"value\":0.8},\"x\":{\"field\":\"age\"}},\"id\":\"1524\",\"type\":\"VBar\"},{\"attributes\":{},\"id\":\"1509\",\"type\":\"WheelZoomTool\"},{\"attributes\":{},\"id\":\"1532\",\"type\":\"AllLabels\"},{\"attributes\":{\"fill_alpha\":{\"value\":0.2},\"fill_color\":{\"value\":\"green\"},\"hatch_alpha\":{\"value\":0.2},\"hatch_color\":{\"value\":\"green\"},\"line_alpha\":{\"value\":0.2},\"top\":{\"field\":\"number_of_people\"},\"width\":{\"value\":0.8},\"x\":{\"field\":\"age\"}},\"id\":\"1525\",\"type\":\"VBar\"}],\"root_ids\":[\"1486\"]},\"title\":\"Bokeh Application\",\"version\":\"2.4.2\"}};\n",
       "    var render_items = [{\"docid\":\"0b1ffc10-d11f-42eb-b5c0-0efd9c230f8b\",\"root_ids\":[\"1486\"],\"roots\":{\"1486\":\"0ccf0ea9-98b2-4575-9f7b-9630f9d786e6\"}}];\n",
       "    root.Bokeh.embed.embed_items_notebook(docs_json, render_items);\n",
       "  }\n",
       "  if (root.Bokeh !== undefined && root.Bokeh.Panel !== undefined) {\n",
       "    embed_document(root);\n",
       "  } else {\n",
       "    var attempts = 0;\n",
       "    var timer = setInterval(function(root) {\n",
       "      if (root.Bokeh !== undefined && root.Bokeh.Panel !== undefined) {\n",
       "        clearInterval(timer);\n",
       "        embed_document(root);\n",
       "      } else if (document.readyState == \"complete\") {\n",
       "        attempts++;\n",
       "        if (attempts > 200) {\n",
       "          clearInterval(timer);\n",
       "          console.log(\"Bokeh: ERROR: Unable to run BokehJS code because BokehJS library is missing\");\n",
       "        }\n",
       "      }\n",
       "    }, 25, root)\n",
       "  }\n",
       "})(window);</script>"
      ],
      "text/plain": [
       ":Bars   [age]   (number_of_people)"
      ]
     },
     "execution_count": 47,
     "metadata": {
      "application/vnd.holoviews_exec.v0+json": {
       "id": "1486"
      }
     },
     "output_type": "execute_result"
    }
   ],
   "source": [
    "# Bar chart for gym users dataframe\n",
    "\n",
    "gym_user_chart = create_bar_chart(gym_user_df,\"Number of Gym Users (2021)\",\"Age Group\",\"Number of people\",\"green\").opts(yformatter=\"%.0f\")\n",
    "gym_user_chart"
   ]
  },
  {
   "cell_type": "code",
   "execution_count": 48,
   "id": "78390ac6",
   "metadata": {},
   "outputs": [],
   "source": [
    "# Bar chart smartphone users\n",
    "\n",
    "def smart_user_plot(\n",
    "smart_users_chart =  create_bar_chart(smart_df,\"Number of people using smartphones\",\"Years\",\"Number of people\",\"hotpink\").opts(yformatter=\"%.0f\")\n",
    "    \n",
    "):\n",
    "    return smart_users_chart"
   ]
  },
  {
   "cell_type": "code",
   "execution_count": 59,
   "id": "eaa1aa8d",
   "metadata": {},
   "outputs": [
    {
     "data": {},
     "metadata": {},
     "output_type": "display_data"
    },
    {
     "data": {},
     "metadata": {},
     "output_type": "display_data"
    },
    {
     "data": {
      "application/vnd.holoviews_exec.v0+json": "",
      "text/html": [
       "<div id='1912'>\n",
       "\n",
       "\n",
       "\n",
       "\n",
       "\n",
       "  <div class=\"bk-root\" id=\"cc3dfaf6-4039-4b9e-ad24-4bfd600b4191\" data-root-id=\"1912\"></div>\n",
       "</div>\n",
       "<script type=\"application/javascript\">(function(root) {\n",
       "  function embed_document(root) {\n",
       "    var docs_json = {\"b42377f1-55ba-4b1d-a657-f0989b7068ca\":{\"defs\":[{\"extends\":null,\"module\":null,\"name\":\"ReactiveHTML1\",\"overrides\":[],\"properties\":[]},{\"extends\":null,\"module\":null,\"name\":\"FlexBox1\",\"overrides\":[],\"properties\":[{\"default\":\"flex-start\",\"kind\":null,\"name\":\"align_content\"},{\"default\":\"flex-start\",\"kind\":null,\"name\":\"align_items\"},{\"default\":\"row\",\"kind\":null,\"name\":\"flex_direction\"},{\"default\":\"wrap\",\"kind\":null,\"name\":\"flex_wrap\"},{\"default\":\"flex-start\",\"kind\":null,\"name\":\"justify_content\"}]},{\"extends\":null,\"module\":null,\"name\":\"TemplateActions1\",\"overrides\":[],\"properties\":[{\"default\":0,\"kind\":null,\"name\":\"open_modal\"},{\"default\":0,\"kind\":null,\"name\":\"close_modal\"}]},{\"extends\":null,\"module\":null,\"name\":\"MaterialTemplateActions1\",\"overrides\":[],\"properties\":[{\"default\":0,\"kind\":null,\"name\":\"open_modal\"},{\"default\":0,\"kind\":null,\"name\":\"close_modal\"}]}],\"roots\":{\"references\":[{\"attributes\":{},\"id\":\"1931\",\"type\":\"BasicTicker\"},{\"attributes\":{\"data\":{\"no_of_users\":[18600000,19600000,20000000,20500000,20600000,20800000,21100000,21300000,21500000],\"year\":[\"2017\",\"2018\",\"2019\",\"2020\",\"2021\",\"2022\",\"2023\",\"2024\",\"2025\"]},\"selected\":{\"id\":\"1948\"},\"selection_policy\":{\"id\":\"1971\"}},\"id\":\"1947\",\"type\":\"ColumnDataSource\"},{\"attributes\":{\"bottom\":{\"value\":0},\"fill_alpha\":{\"value\":1.0},\"fill_color\":{\"value\":\"hotpink\"},\"hatch_alpha\":{\"value\":1.0},\"hatch_color\":{\"value\":\"hotpink\"},\"hatch_scale\":{\"value\":12.0},\"hatch_weight\":{\"value\":1.0},\"line_alpha\":{\"value\":1.0},\"line_cap\":{\"value\":\"butt\"},\"line_color\":{\"value\":\"black\"},\"line_dash\":{\"value\":[]},\"line_dash_offset\":{\"value\":0},\"line_join\":{\"value\":\"bevel\"},\"line_width\":{\"value\":1},\"top\":{\"field\":\"no_of_users\"},\"width\":{\"value\":0.8},\"x\":{\"field\":\"year\"}},\"id\":\"1955\",\"type\":\"VBar\"},{\"attributes\":{},\"id\":\"1962\",\"type\":\"AllLabels\"},{\"attributes\":{\"source\":{\"id\":\"1947\"}},\"id\":\"1954\",\"type\":\"CDSView\"},{\"attributes\":{},\"id\":\"1958\",\"type\":\"CategoricalTickFormatter\"},{\"attributes\":{\"axis\":{\"id\":\"1927\"},\"coordinates\":null,\"grid_line_color\":null,\"group\":null,\"ticker\":null},\"id\":\"1929\",\"type\":\"Grid\"},{\"attributes\":{\"client_comm_id\":\"b9d48265bab44990ac8469b526ae730f\",\"comm_id\":\"fc588e7972434cd891f45dd672af0078\",\"plot_id\":\"1912\"},\"id\":\"2010\",\"type\":\"panel.models.comm_manager.CommManager\"},{\"attributes\":{\"children\":[{\"id\":\"1918\"}],\"margin\":[0,0,0,0],\"name\":\"Row02669\"},\"id\":\"1914\",\"type\":\"Row\"},{\"attributes\":{},\"id\":\"1923\",\"type\":\"CategoricalScale\"},{\"attributes\":{\"coordinates\":null,\"group\":null,\"text\":\"Number of people using smartphones\",\"text_color\":\"black\",\"text_font_size\":\"12pt\"},\"id\":\"1919\",\"type\":\"Title\"},{\"attributes\":{\"children\":[{\"id\":\"1913\"},{\"id\":\"1914\"}],\"margin\":[0,0,0,0],\"name\":\"Column02662\"},\"id\":\"1912\",\"type\":\"Column\"},{\"attributes\":{\"coordinates\":null,\"data_source\":{\"id\":\"1947\"},\"glyph\":{\"id\":\"1950\"},\"group\":null,\"hover_glyph\":null,\"muted_glyph\":{\"id\":\"1952\"},\"nonselection_glyph\":{\"id\":\"1951\"},\"selection_glyph\":{\"id\":\"1955\"},\"view\":{\"id\":\"1954\"}},\"id\":\"1953\",\"type\":\"GlyphRenderer\"},{\"attributes\":{},\"id\":\"1934\",\"type\":\"SaveTool\"},{\"attributes\":{},\"id\":\"1948\",\"type\":\"Selection\"},{\"attributes\":{\"fill_alpha\":{\"value\":0.2},\"fill_color\":{\"value\":\"hotpink\"},\"hatch_alpha\":{\"value\":0.2},\"hatch_color\":{\"value\":\"hotpink\"},\"line_alpha\":{\"value\":0.2},\"top\":{\"field\":\"no_of_users\"},\"width\":{\"value\":0.8},\"x\":{\"field\":\"year\"}},\"id\":\"1952\",\"type\":\"VBar\"},{\"attributes\":{\"below\":[{\"id\":\"1927\"}],\"center\":[{\"id\":\"1929\"},{\"id\":\"1933\"}],\"height\":500,\"left\":[{\"id\":\"1930\"}],\"margin\":[5,5,5,5],\"min_border_bottom\":10,\"min_border_left\":10,\"min_border_right\":10,\"min_border_top\":10,\"renderers\":[{\"id\":\"1953\"}],\"sizing_mode\":\"fixed\",\"title\":{\"id\":\"1919\"},\"toolbar\":{\"id\":\"1940\"},\"width\":700,\"x_range\":{\"id\":\"1915\"},\"x_scale\":{\"id\":\"1923\"},\"y_range\":{\"id\":\"1916\"},\"y_scale\":{\"id\":\"1925\"}},\"id\":\"1918\",\"subtype\":\"Figure\",\"type\":\"Plot\"},{\"attributes\":{},\"id\":\"1971\",\"type\":\"UnionRenderers\"},{\"attributes\":{\"bottom_units\":\"screen\",\"coordinates\":null,\"fill_alpha\":0.5,\"fill_color\":\"lightgrey\",\"group\":null,\"left_units\":\"screen\",\"level\":\"overlay\",\"line_alpha\":1.0,\"line_color\":\"black\",\"line_dash\":[4,4],\"line_width\":2,\"right_units\":\"screen\",\"syncable\":false,\"top_units\":\"screen\"},\"id\":\"1939\",\"type\":\"BoxAnnotation\"},{\"attributes\":{\"end\":21790000.0,\"reset_end\":21790000.0,\"reset_start\":0.0,\"tags\":[[[\"no_of_users\",\"no_of_users\",null]]]},\"id\":\"1916\",\"type\":\"Range1d\"},{\"attributes\":{},\"id\":\"1925\",\"type\":\"LinearScale\"},{\"attributes\":{\"fill_alpha\":{\"value\":0.1},\"fill_color\":{\"value\":\"hotpink\"},\"hatch_alpha\":{\"value\":0.1},\"hatch_color\":{\"value\":\"hotpink\"},\"line_alpha\":{\"value\":0.1},\"top\":{\"field\":\"no_of_users\"},\"width\":{\"value\":0.8},\"x\":{\"field\":\"year\"}},\"id\":\"1951\",\"type\":\"VBar\"},{\"attributes\":{\"callback\":null,\"renderers\":[{\"id\":\"1953\"}],\"tags\":[\"hv_created\"],\"tooltips\":[[\"year\",\"@{year}\"],[\"no_of_users\",\"@{no_of_users}\"]]},\"id\":\"1917\",\"type\":\"HoverTool\"},{\"attributes\":{},\"id\":\"1936\",\"type\":\"WheelZoomTool\"},{\"attributes\":{},\"id\":\"1928\",\"type\":\"CategoricalTicker\"},{\"attributes\":{},\"id\":\"1938\",\"type\":\"ResetTool\"},{\"attributes\":{\"axis\":{\"id\":\"1930\"},\"coordinates\":null,\"dimension\":1,\"grid_line_color\":null,\"group\":null,\"ticker\":null},\"id\":\"1933\",\"type\":\"Grid\"},{\"attributes\":{\"overlay\":{\"id\":\"1939\"}},\"id\":\"1937\",\"type\":\"BoxZoomTool\"},{\"attributes\":{\"tools\":[{\"id\":\"1917\"},{\"id\":\"1934\"},{\"id\":\"1935\"},{\"id\":\"1936\"},{\"id\":\"1937\"},{\"id\":\"1938\"}]},\"id\":\"1940\",\"type\":\"Toolbar\"},{\"attributes\":{\"axis_label\":\"Number of people\",\"coordinates\":null,\"formatter\":{\"id\":\"1956\"},\"group\":null,\"major_label_policy\":{\"id\":\"1962\"},\"ticker\":{\"id\":\"1931\"}},\"id\":\"1930\",\"type\":\"LinearAxis\"},{\"attributes\":{},\"id\":\"1935\",\"type\":\"PanTool\"},{\"attributes\":{\"axis_label\":\"Years\",\"coordinates\":null,\"formatter\":{\"id\":\"1958\"},\"group\":null,\"major_label_policy\":{\"id\":\"1959\"},\"ticker\":{\"id\":\"1928\"}},\"id\":\"1927\",\"type\":\"CategoricalAxis\"},{\"attributes\":{\"margin\":[0,0,0,0],\"name\":\"Column02670\"},\"id\":\"1913\",\"type\":\"Column\"},{\"attributes\":{\"format\":\"%.0f\"},\"id\":\"1956\",\"type\":\"PrintfTickFormatter\"},{\"attributes\":{\"factors\":[\"2017\",\"2018\",\"2019\",\"2020\",\"2021\",\"2022\",\"2023\",\"2024\",\"2025\"],\"tags\":[[[\"year\",\"year\",null]]]},\"id\":\"1915\",\"type\":\"FactorRange\"},{\"attributes\":{\"fill_color\":{\"value\":\"hotpink\"},\"hatch_color\":{\"value\":\"hotpink\"},\"top\":{\"field\":\"no_of_users\"},\"width\":{\"value\":0.8},\"x\":{\"field\":\"year\"}},\"id\":\"1950\",\"type\":\"VBar\"},{\"attributes\":{},\"id\":\"1959\",\"type\":\"AllLabels\"}],\"root_ids\":[\"1912\",\"2010\"]},\"title\":\"Bokeh Application\",\"version\":\"2.4.2\"}};\n",
       "    var render_items = [{\"docid\":\"b42377f1-55ba-4b1d-a657-f0989b7068ca\",\"root_ids\":[\"1912\"],\"roots\":{\"1912\":\"cc3dfaf6-4039-4b9e-ad24-4bfd600b4191\"}}];\n",
       "    root.Bokeh.embed.embed_items_notebook(docs_json, render_items);\n",
       "  }\n",
       "  if (root.Bokeh !== undefined && root.Bokeh.Panel !== undefined) {\n",
       "    embed_document(root);\n",
       "  } else {\n",
       "    var attempts = 0;\n",
       "    var timer = setInterval(function(root) {\n",
       "      if (root.Bokeh !== undefined && root.Bokeh.Panel !== undefined) {\n",
       "        clearInterval(timer);\n",
       "        embed_document(root);\n",
       "      } else if (document.readyState == \"complete\") {\n",
       "        attempts++;\n",
       "        if (attempts > 200) {\n",
       "          clearInterval(timer);\n",
       "          console.log(\"Bokeh: ERROR: Unable to run BokehJS code because BokehJS library is missing\");\n",
       "        }\n",
       "      }\n",
       "    }, 25, root)\n",
       "  }\n",
       "})(window);</script>"
      ],
      "text/plain": [
       "Column\n",
       "    [0] Column()\n",
       "    [1] Row\n",
       "        [0] HoloViews(Bars, name='interactive02661')"
      ]
     },
     "execution_count": 59,
     "metadata": {
      "application/vnd.holoviews_exec.v0+json": {
       "id": "1912"
      }
     },
     "output_type": "execute_result"
    }
   ],
   "source": [
    "pn.interact(smart_user_plot)"
   ]
  },
  {
   "cell_type": "code",
   "execution_count": null,
   "id": "4852c235",
   "metadata": {},
   "outputs": [],
   "source": [
    "# Creating transactional savings dataframe comparison for 100 transactional occurence\n",
    "## Data source = total_ops_2\n",
    "### New dataframe called total_ops_100\n",
    "\n",
    "total_ops_100 = total_ops_2.loc[total_ops_2[\"Transactional Occurence\"] == 100]\n",
    "total_ops_100 = total_ops_100[[\"Savings Hedera vs Company\"]]\n",
    "total_ops_100"
   ]
  },
  {
   "cell_type": "code",
   "execution_count": null,
   "id": "6f75c5f3",
   "metadata": {},
   "outputs": [],
   "source": [
    "total_ops_2"
   ]
  },
  {
   "cell_type": "code",
   "execution_count": null,
   "id": "e09b0816",
   "metadata": {},
   "outputs": [],
   "source": [
    "# Creating plot\n",
    "\n",
    "# total_ops_100.plot(kind=\"bar\",title=\"Company Comparison\",colormap=\"Accent\",figsize=(20,10))"
   ]
  },
  {
   "cell_type": "code",
   "execution_count": null,
   "id": "fb33e92f",
   "metadata": {},
   "outputs": [],
   "source": [
    "# Creating transactional savings dataframe comparison for 1000 transactional occurence\n",
    "## Data source = total_ops_2\n",
    "### New dataframe called total_ops_1000\n",
    "\n",
    "total_ops_1000 = total_ops_2.loc[total_ops_2[\"Transactional Occurence\"] == 1000]\n",
    "total_ops_1000 "
   ]
  },
  {
   "cell_type": "code",
   "execution_count": 50,
   "id": "759ce8f0",
   "metadata": {},
   "outputs": [
    {
     "data": {
      "text/html": [
       "<div>\n",
       "<style scoped>\n",
       "    .dataframe tbody tr th:only-of-type {\n",
       "        vertical-align: middle;\n",
       "    }\n",
       "\n",
       "    .dataframe tbody tr th {\n",
       "        vertical-align: top;\n",
       "    }\n",
       "\n",
       "    .dataframe thead th {\n",
       "        text-align: right;\n",
       "    }\n",
       "</style>\n",
       "<table border=\"1\" class=\"dataframe\">\n",
       "  <thead>\n",
       "    <tr style=\"text-align: right;\">\n",
       "      <th></th>\n",
       "      <th>Transactional Occurence</th>\n",
       "      <th>Company Transaction Amnt</th>\n",
       "      <th>Total Cost via Company</th>\n",
       "      <th>Hedera Transaction Amnt</th>\n",
       "      <th>Total Cost via Hedera</th>\n",
       "      <th>Savings Hedera vs Company</th>\n",
       "    </tr>\n",
       "    <tr>\n",
       "      <th>Company</th>\n",
       "      <th></th>\n",
       "      <th></th>\n",
       "      <th></th>\n",
       "      <th></th>\n",
       "      <th></th>\n",
       "      <th></th>\n",
       "    </tr>\n",
       "  </thead>\n",
       "  <tbody>\n",
       "    <tr>\n",
       "      <th>debitsuccess</th>\n",
       "      <td>10000</td>\n",
       "      <td>$1.74</td>\n",
       "      <td>$$17400</td>\n",
       "      <td>0.00014</td>\n",
       "      <td>1.14</td>\n",
       "      <td>$17398.6</td>\n",
       "    </tr>\n",
       "    <tr>\n",
       "      <th>payadvantage</th>\n",
       "      <td>10000</td>\n",
       "      <td>0.88</td>\n",
       "      <td>8888</td>\n",
       "      <td>0.00014</td>\n",
       "      <td>1.14</td>\n",
       "      <td>8798.6</td>\n",
       "    </tr>\n",
       "    <tr>\n",
       "      <th>paysmart</th>\n",
       "      <td>10000</td>\n",
       "      <td>0.51</td>\n",
       "      <td>5100</td>\n",
       "      <td>0.00014</td>\n",
       "      <td>1.40</td>\n",
       "      <td>5098.6</td>\n",
       "    </tr>\n",
       "    <tr>\n",
       "      <th>ezypay</th>\n",
       "      <td>10000</td>\n",
       "      <td>0.44</td>\n",
       "      <td>4400</td>\n",
       "      <td>0.00014</td>\n",
       "      <td>1.40</td>\n",
       "      <td>4398.6</td>\n",
       "    </tr>\n",
       "  </tbody>\n",
       "</table>\n",
       "</div>"
      ],
      "text/plain": [
       "              Transactional Occurence Company Transaction Amnt  \\\n",
       "Company                                                          \n",
       "debitsuccess                    10000                    $1.74   \n",
       "payadvantage                    10000                     0.88   \n",
       "paysmart                        10000                     0.51   \n",
       "ezypay                          10000                     0.44   \n",
       "\n",
       "             Total Cost via Company  Hedera Transaction Amnt  \\\n",
       "Company                                                        \n",
       "debitsuccess                $$17400                  0.00014   \n",
       "payadvantage                   8888                  0.00014   \n",
       "paysmart                       5100                  0.00014   \n",
       "ezypay                         4400                  0.00014   \n",
       "\n",
       "              Total Cost via Hedera Savings Hedera vs Company  \n",
       "Company                                                        \n",
       "debitsuccess                   1.14                  $17398.6  \n",
       "payadvantage                   1.14                    8798.6  \n",
       "paysmart                       1.40                    5098.6  \n",
       "ezypay                         1.40                    4398.6  "
      ]
     },
     "execution_count": 50,
     "metadata": {},
     "output_type": "execute_result"
    }
   ],
   "source": [
    "# Creating transactional savings dataframe comparison for 1000 transactional occurence\n",
    "## Data source = total_ops_2\n",
    "### New dataframe called total_ops_10000\n",
    "\n",
    "total_ops_10000 = total_ops_2.loc[total_ops_2[\"Transactional Occurence\"] == 10000]\n",
    "total_ops_10000 "
   ]
  },
  {
   "cell_type": "code",
   "execution_count": 51,
   "id": "885411a7",
   "metadata": {},
   "outputs": [
    {
     "data": {
      "text/html": [
       "<div>\n",
       "<style scoped>\n",
       "    .dataframe tbody tr th:only-of-type {\n",
       "        vertical-align: middle;\n",
       "    }\n",
       "\n",
       "    .dataframe tbody tr th {\n",
       "        vertical-align: top;\n",
       "    }\n",
       "\n",
       "    .dataframe thead th {\n",
       "        text-align: right;\n",
       "    }\n",
       "</style>\n",
       "<table border=\"1\" class=\"dataframe\">\n",
       "  <thead>\n",
       "    <tr style=\"text-align: right;\">\n",
       "      <th></th>\n",
       "      <th>Transactional Occurence</th>\n",
       "      <th>Company Transaction Amnt</th>\n",
       "      <th>Total Cost via Company</th>\n",
       "      <th>Hedera Transaction Amnt</th>\n",
       "      <th>Total Cost via Hedera</th>\n",
       "      <th>Savings Hedera vs Company</th>\n",
       "    </tr>\n",
       "    <tr>\n",
       "      <th>Company</th>\n",
       "      <th></th>\n",
       "      <th></th>\n",
       "      <th></th>\n",
       "      <th></th>\n",
       "      <th></th>\n",
       "      <th></th>\n",
       "    </tr>\n",
       "  </thead>\n",
       "  <tbody>\n",
       "    <tr>\n",
       "      <th>debitsuccess</th>\n",
       "      <td>100000</td>\n",
       "      <td>$1.74</td>\n",
       "      <td>$$174000</td>\n",
       "      <td>0.00014</td>\n",
       "      <td>11.4</td>\n",
       "      <td>$173986</td>\n",
       "    </tr>\n",
       "    <tr>\n",
       "      <th>payadvantage</th>\n",
       "      <td>100000</td>\n",
       "      <td>0.88</td>\n",
       "      <td>88888</td>\n",
       "      <td>0.00014</td>\n",
       "      <td>11.4</td>\n",
       "      <td>87986</td>\n",
       "    </tr>\n",
       "    <tr>\n",
       "      <th>paysmart</th>\n",
       "      <td>100000</td>\n",
       "      <td>0.51</td>\n",
       "      <td>51000</td>\n",
       "      <td>0.00014</td>\n",
       "      <td>11.4</td>\n",
       "      <td>50986</td>\n",
       "    </tr>\n",
       "    <tr>\n",
       "      <th>ezypay</th>\n",
       "      <td>100000</td>\n",
       "      <td>0.44</td>\n",
       "      <td>44000</td>\n",
       "      <td>0.00014</td>\n",
       "      <td>11.4</td>\n",
       "      <td>43986</td>\n",
       "    </tr>\n",
       "  </tbody>\n",
       "</table>\n",
       "</div>"
      ],
      "text/plain": [
       "              Transactional Occurence Company Transaction Amnt  \\\n",
       "Company                                                          \n",
       "debitsuccess                   100000                    $1.74   \n",
       "payadvantage                   100000                     0.88   \n",
       "paysmart                       100000                     0.51   \n",
       "ezypay                         100000                     0.44   \n",
       "\n",
       "             Total Cost via Company  Hedera Transaction Amnt  \\\n",
       "Company                                                        \n",
       "debitsuccess               $$174000                  0.00014   \n",
       "payadvantage                  88888                  0.00014   \n",
       "paysmart                      51000                  0.00014   \n",
       "ezypay                        44000                  0.00014   \n",
       "\n",
       "              Total Cost via Hedera Savings Hedera vs Company  \n",
       "Company                                                        \n",
       "debitsuccess                   11.4                   $173986  \n",
       "payadvantage                   11.4                     87986  \n",
       "paysmart                       11.4                     50986  \n",
       "ezypay                         11.4                     43986  "
      ]
     },
     "execution_count": 51,
     "metadata": {},
     "output_type": "execute_result"
    }
   ],
   "source": [
    "# Creating transactional savings dataframe comparison for 1000 transactional occurence\n",
    "## Data source = total_ops_2\n",
    "### New dataframe called total_ops_100000\n",
    "\n",
    "total_ops_100000 = total_ops_2.loc[total_ops_2[\"Transactional Occurence\"] == 100000]\n",
    "total_ops_100000 "
   ]
  },
  {
   "cell_type": "code",
   "execution_count": 52,
   "id": "0438b291",
   "metadata": {},
   "outputs": [],
   "source": [
    "## Create pn.Row, pn.Column and pn.pane.SVG functions for the Dashboard Presentation"
   ]
  },
  {
   "cell_type": "code",
   "execution_count": 53,
   "id": "a18dfe96",
   "metadata": {},
   "outputs": [
    {
     "ename": "ValueError",
     "evalue": "PNG pane cannot parse string that is not a filename or URL.",
     "output_type": "error",
     "traceback": [
      "\u001b[1;31m---------------------------------------------------------------------------\u001b[0m",
      "\u001b[1;31mValueError\u001b[0m                                Traceback (most recent call last)",
      "\u001b[1;32m~\\AppData\\Local\\Temp/ipykernel_26756/4121034934.py\u001b[0m in \u001b[0;36m<module>\u001b[1;34m\u001b[0m\n\u001b[0;32m      1\u001b[0m \u001b[0mpygal_svg\u001b[0m \u001b[1;33m=\u001b[0m \u001b[0mpn\u001b[0m\u001b[1;33m.\u001b[0m\u001b[0mpane\u001b[0m\u001b[1;33m.\u001b[0m\u001b[0mSVG\u001b[0m\u001b[1;33m(\u001b[0m\u001b[1;34m'gym_est_chart_pygal.svg'\u001b[0m\u001b[1;33m,\u001b[0m \u001b[0mwidth\u001b[0m\u001b[1;33m=\u001b[0m\u001b[1;36m800\u001b[0m\u001b[1;33m,\u001b[0m \u001b[0mheight\u001b[0m\u001b[1;33m=\u001b[0m\u001b[1;36m600\u001b[0m\u001b[1;33m)\u001b[0m\u001b[1;33m\u001b[0m\u001b[1;33m\u001b[0m\u001b[0m\n\u001b[1;32m----> 2\u001b[1;33m \u001b[0mpygal_png\u001b[0m \u001b[1;33m=\u001b[0m \u001b[0mpn\u001b[0m\u001b[1;33m.\u001b[0m\u001b[0mpane\u001b[0m\u001b[1;33m.\u001b[0m\u001b[0mPNG\u001b[0m\u001b[1;33m(\u001b[0m\u001b[1;34m'gym_est_chart_pygal.png'\u001b[0m\u001b[1;33m,\u001b[0m \u001b[0mwidth\u001b[0m\u001b[1;33m=\u001b[0m\u001b[1;36m800\u001b[0m\u001b[1;33m,\u001b[0m \u001b[0mheight\u001b[0m\u001b[1;33m=\u001b[0m\u001b[1;36m600\u001b[0m\u001b[1;33m)\u001b[0m\u001b[1;33m\u001b[0m\u001b[1;33m\u001b[0m\u001b[0m\n\u001b[0m",
      "\u001b[1;32m~\\anaconda3\\envs\\pyvizenv\\lib\\site-packages\\panel\\pane\\image.py\u001b[0m in \u001b[0;36m__init__\u001b[1;34m(self, object, **params)\u001b[0m\n\u001b[0;32m     27\u001b[0m         \u001b[1;32mif\u001b[0m \u001b[0misinstance\u001b[0m\u001b[1;33m(\u001b[0m\u001b[0mobject\u001b[0m\u001b[1;33m,\u001b[0m \u001b[0mPurePath\u001b[0m\u001b[1;33m)\u001b[0m\u001b[1;33m:\u001b[0m\u001b[1;33m\u001b[0m\u001b[1;33m\u001b[0m\u001b[0m\n\u001b[0;32m     28\u001b[0m             \u001b[0mobject\u001b[0m \u001b[1;33m=\u001b[0m \u001b[0mstr\u001b[0m\u001b[1;33m(\u001b[0m\u001b[0mobject\u001b[0m\u001b[1;33m)\u001b[0m\u001b[1;33m\u001b[0m\u001b[1;33m\u001b[0m\u001b[0m\n\u001b[1;32m---> 29\u001b[1;33m         \u001b[0msuper\u001b[0m\u001b[1;33m(\u001b[0m\u001b[1;33m)\u001b[0m\u001b[1;33m.\u001b[0m\u001b[0m__init__\u001b[0m\u001b[1;33m(\u001b[0m\u001b[0mobject\u001b[0m\u001b[1;33m=\u001b[0m\u001b[0mobject\u001b[0m\u001b[1;33m,\u001b[0m \u001b[1;33m**\u001b[0m\u001b[0mparams\u001b[0m\u001b[1;33m)\u001b[0m\u001b[1;33m\u001b[0m\u001b[1;33m\u001b[0m\u001b[0m\n\u001b[0m\u001b[0;32m     30\u001b[0m \u001b[1;33m\u001b[0m\u001b[0m\n\u001b[0;32m     31\u001b[0m     \u001b[1;32mdef\u001b[0m \u001b[0m_type_error\u001b[0m\u001b[1;33m(\u001b[0m\u001b[0mself\u001b[0m\u001b[1;33m,\u001b[0m \u001b[0mobject\u001b[0m\u001b[1;33m)\u001b[0m\u001b[1;33m:\u001b[0m\u001b[1;33m\u001b[0m\u001b[1;33m\u001b[0m\u001b[0m\n",
      "\u001b[1;32m~\\anaconda3\\envs\\pyvizenv\\lib\\site-packages\\panel\\pane\\base.py\u001b[0m in \u001b[0;36m__init__\u001b[1;34m(self, object, **params)\u001b[0m\n\u001b[0;32m    110\u001b[0m         \u001b[0mapplies\u001b[0m \u001b[1;33m=\u001b[0m \u001b[0mself\u001b[0m\u001b[1;33m.\u001b[0m\u001b[0mapplies\u001b[0m\u001b[1;33m(\u001b[0m\u001b[0mobject\u001b[0m\u001b[1;33m,\u001b[0m \u001b[1;33m**\u001b[0m\u001b[1;33m(\u001b[0m\u001b[0mparams\u001b[0m \u001b[1;32mif\u001b[0m \u001b[0mself\u001b[0m\u001b[1;33m.\u001b[0m\u001b[0m_applies_kw\u001b[0m \u001b[1;32melse\u001b[0m \u001b[1;33m{\u001b[0m\u001b[1;33m}\u001b[0m\u001b[1;33m)\u001b[0m\u001b[1;33m)\u001b[0m\u001b[1;33m\u001b[0m\u001b[1;33m\u001b[0m\u001b[0m\n\u001b[0;32m    111\u001b[0m         \u001b[1;32mif\u001b[0m \u001b[1;33m(\u001b[0m\u001b[0misinstance\u001b[0m\u001b[1;33m(\u001b[0m\u001b[0mapplies\u001b[0m\u001b[1;33m,\u001b[0m \u001b[0mbool\u001b[0m\u001b[1;33m)\u001b[0m \u001b[1;32mand\u001b[0m \u001b[1;32mnot\u001b[0m \u001b[0mapplies\u001b[0m\u001b[1;33m)\u001b[0m \u001b[1;32mand\u001b[0m \u001b[0mobject\u001b[0m \u001b[1;32mis\u001b[0m \u001b[1;32mnot\u001b[0m \u001b[1;32mNone\u001b[0m \u001b[1;33m:\u001b[0m\u001b[1;33m\u001b[0m\u001b[1;33m\u001b[0m\u001b[0m\n\u001b[1;32m--> 112\u001b[1;33m             \u001b[0mself\u001b[0m\u001b[1;33m.\u001b[0m\u001b[0m_type_error\u001b[0m\u001b[1;33m(\u001b[0m\u001b[0mobject\u001b[0m\u001b[1;33m)\u001b[0m\u001b[1;33m\u001b[0m\u001b[1;33m\u001b[0m\u001b[0m\n\u001b[0m\u001b[0;32m    113\u001b[0m \u001b[1;33m\u001b[0m\u001b[0m\n\u001b[0;32m    114\u001b[0m         \u001b[0msuper\u001b[0m\u001b[1;33m(\u001b[0m\u001b[1;33m)\u001b[0m\u001b[1;33m.\u001b[0m\u001b[0m__init__\u001b[0m\u001b[1;33m(\u001b[0m\u001b[0mobject\u001b[0m\u001b[1;33m=\u001b[0m\u001b[0mobject\u001b[0m\u001b[1;33m,\u001b[0m \u001b[1;33m**\u001b[0m\u001b[0mparams\u001b[0m\u001b[1;33m)\u001b[0m\u001b[1;33m\u001b[0m\u001b[1;33m\u001b[0m\u001b[0m\n",
      "\u001b[1;32m~\\anaconda3\\envs\\pyvizenv\\lib\\site-packages\\panel\\pane\\image.py\u001b[0m in \u001b[0;36m_type_error\u001b[1;34m(self, object)\u001b[0m\n\u001b[0;32m     32\u001b[0m         \u001b[1;32mif\u001b[0m \u001b[0misinstance\u001b[0m\u001b[1;33m(\u001b[0m\u001b[0mobject\u001b[0m\u001b[1;33m,\u001b[0m \u001b[0mstring_types\u001b[0m\u001b[1;33m)\u001b[0m\u001b[1;33m:\u001b[0m\u001b[1;33m\u001b[0m\u001b[1;33m\u001b[0m\u001b[0m\n\u001b[0;32m     33\u001b[0m             raise ValueError(\"%s pane cannot parse string that is not a filename \"\n\u001b[1;32m---> 34\u001b[1;33m                              \"or URL.\" % type(self).__name__)\n\u001b[0m\u001b[0;32m     35\u001b[0m         \u001b[0msuper\u001b[0m\u001b[1;33m(\u001b[0m\u001b[1;33m)\u001b[0m\u001b[1;33m.\u001b[0m\u001b[0m_type_error\u001b[0m\u001b[1;33m(\u001b[0m\u001b[0mobject\u001b[0m\u001b[1;33m)\u001b[0m\u001b[1;33m\u001b[0m\u001b[1;33m\u001b[0m\u001b[0m\n\u001b[0;32m     36\u001b[0m \u001b[1;33m\u001b[0m\u001b[0m\n",
      "\u001b[1;31mValueError\u001b[0m: PNG pane cannot parse string that is not a filename or URL."
     ]
    }
   ],
   "source": [
    "pygal_svg = pn.pane.SVG('gym_est_chart_pygal.svg', width=800, height=600)\n",
    "pygal_png = pn.pane.PNG('gym_est_chart_pygal.png', width=800, height=600)"
   ]
  },
  {
   "cell_type": "code",
   "execution_count": 54,
   "id": "46192c3b",
   "metadata": {},
   "outputs": [],
   "source": [
    "gympay_pane = pn.pane.PNG('Gympay.png', width=600)"
   ]
  },
  {
   "cell_type": "code",
   "execution_count": 55,
   "id": "4808cc80",
   "metadata": {},
   "outputs": [],
   "source": [
    "smartphone_users = pn.Row(smart_user_plot,crypto_bar_chart)"
   ]
  },
  {
   "cell_type": "code",
   "execution_count": 56,
   "id": "059bc277",
   "metadata": {},
   "outputs": [],
   "source": [
    "# Create pn.rows and pn.columns for Dashboard\n",
    "\n",
    "column = pn.Column(\n",
    "    ('# Welcome to GymPay.'),\n",
    "    gympay_pane,\n",
    "    ('On this project we decided to gather research on blockchain technology and its market potential to change the financial payment services industry, with example given for the Fitness Industry.'),\n",
    "    ('This Dashboard includes a range of plots to show you the business potential of a blockchain geared product in the Fitness world.'),\n",
    "    ('Click the Tabs above to shift through each plot and analysis.'),\n",
    ")\n",
    "\n",
    "column_pygal_gyms = pn.Column(\n",
    "    ('# Gym Establishments Over Time In Australia'),\n",
    "    ('Python Library Used: Pygal'),\n",
    "    pygal_svg\n",
    ")\n",
    "\n",
    "column_smartphone_users = pn.Column(\n",
    "    ('# Smartphone Users Growth Projected'),\n",
    "    ('Python Libray Used: Hvplot'),\n",
    "    smartphone_users\n",
    ")"
   ]
  },
  {
   "cell_type": "code",
   "execution_count": 57,
   "id": "27f59e3b",
   "metadata": {},
   "outputs": [],
   "source": [
    "# Create Dashboard Tabs\n",
    "dashboard = tabs = pn.Tabs(\n",
    "        ## hello\n",
    "    (\"Welcome\", column),\n",
    "    ('Gym Estabhlishment Growth', column_pygal_gyms),\n",
    "    ('Smartphone User Projection', column_smartphone_users)\n",
    ")"
   ]
  },
  {
   "cell_type": "code",
   "execution_count": 58,
   "id": "a09ff6c2",
   "metadata": {},
   "outputs": [
    {
     "data": {},
     "metadata": {},
     "output_type": "display_data"
    },
    {
     "data": {},
     "metadata": {},
     "output_type": "display_data"
    },
    {
     "data": {
      "application/vnd.holoviews_exec.v0+json": "",
      "text/html": [
       "<div id='1603'>\n",
       "\n",
       "\n",
       "\n",
       "\n",
       "\n",
       "  <div class=\"bk-root\" id=\"470168ca-d951-4edf-93d7-b5fc2112f77c\" data-root-id=\"1603\"></div>\n",
       "</div>\n",
       "<script type=\"application/javascript\">(function(root) {\n",
       "  function embed_document(root) {\n",
       "    var docs_json = {\"67e33c09-f952-455c-a591-b16e0395aaaa\":{\"defs\":[{\"extends\":null,\"module\":null,\"name\":\"ReactiveHTML1\",\"overrides\":[],\"properties\":[]},{\"extends\":null,\"module\":null,\"name\":\"FlexBox1\",\"overrides\":[],\"properties\":[{\"default\":\"flex-start\",\"kind\":null,\"name\":\"align_content\"},{\"default\":\"flex-start\",\"kind\":null,\"name\":\"align_items\"},{\"default\":\"row\",\"kind\":null,\"name\":\"flex_direction\"},{\"default\":\"wrap\",\"kind\":null,\"name\":\"flex_wrap\"},{\"default\":\"flex-start\",\"kind\":null,\"name\":\"justify_content\"}]},{\"extends\":null,\"module\":null,\"name\":\"TemplateActions1\",\"overrides\":[],\"properties\":[{\"default\":0,\"kind\":null,\"name\":\"open_modal\"},{\"default\":0,\"kind\":null,\"name\":\"close_modal\"}]},{\"extends\":null,\"module\":null,\"name\":\"MaterialTemplateActions1\",\"overrides\":[],\"properties\":[{\"default\":0,\"kind\":null,\"name\":\"open_modal\"},{\"default\":0,\"kind\":null,\"name\":\"close_modal\"}]}],\"roots\":{\"references\":[{\"attributes\":{\"below\":[{\"id\":\"1635\"}],\"center\":[{\"id\":\"1637\"},{\"id\":\"1641\"}],\"height\":500,\"left\":[{\"id\":\"1638\"}],\"margin\":[5,5,5,5],\"min_border_bottom\":10,\"min_border_left\":10,\"min_border_right\":10,\"min_border_top\":10,\"renderers\":[{\"id\":\"1661\"}],\"sizing_mode\":\"fixed\",\"title\":{\"id\":\"1627\"},\"toolbar\":{\"id\":\"1648\"},\"width\":700,\"x_range\":{\"id\":\"1623\"},\"x_scale\":{\"id\":\"1631\"},\"y_range\":{\"id\":\"1624\"},\"y_scale\":{\"id\":\"1633\"}},\"id\":\"1626\",\"subtype\":\"Figure\",\"type\":\"Plot\"},{\"attributes\":{\"margin\":[0,0,0,0],\"tabs\":[{\"id\":\"1610\"},{\"id\":\"1615\"},{\"id\":\"1758\"}]},\"id\":\"1603\",\"type\":\"Tabs\"},{\"attributes\":{\"axis_label\":\"Years\",\"coordinates\":null,\"formatter\":{\"id\":\"1666\"},\"group\":null,\"major_label_policy\":{\"id\":\"1667\"},\"ticker\":{\"id\":\"1636\"}},\"id\":\"1635\",\"type\":\"CategoricalAxis\"},{\"attributes\":{\"below\":[{\"id\":\"1703\"}],\"center\":[{\"id\":\"1705\"},{\"id\":\"1709\"}],\"height\":500,\"left\":[{\"id\":\"1706\"}],\"margin\":[5,5,5,5],\"min_border_bottom\":10,\"min_border_left\":10,\"min_border_right\":10,\"min_border_top\":10,\"renderers\":[{\"id\":\"1729\"}],\"sizing_mode\":\"fixed\",\"title\":{\"id\":\"1695\"},\"toolbar\":{\"id\":\"1716\"},\"width\":700,\"x_range\":{\"id\":\"1623\"},\"x_scale\":{\"id\":\"1699\"},\"y_range\":{\"id\":\"1692\"},\"y_scale\":{\"id\":\"1701\"}},\"id\":\"1694\",\"subtype\":\"Figure\",\"type\":\"Plot\"},{\"attributes\":{\"children\":[{\"id\":\"1605\"},{\"id\":\"1606\"},{\"id\":\"1607\"},{\"id\":\"1608\"},{\"id\":\"1609\"}],\"margin\":[0,0,0,0],\"name\":\"Column02510\"},\"id\":\"1604\",\"type\":\"Column\"},{\"attributes\":{\"data\":{\"no_of_users\":[18600000,19600000,20000000,20500000,20600000,20800000,21100000,21300000,21500000],\"year\":[\"2017\",\"2018\",\"2019\",\"2020\",\"2021\",\"2022\",\"2023\",\"2024\",\"2025\"]},\"selected\":{\"id\":\"1656\"},\"selection_policy\":{\"id\":\"1679\"}},\"id\":\"1655\",\"type\":\"ColumnDataSource\"},{\"attributes\":{\"tools\":[{\"id\":\"1625\"},{\"id\":\"1642\"},{\"id\":\"1643\"},{\"id\":\"1644\"},{\"id\":\"1645\"},{\"id\":\"1646\"}]},\"id\":\"1648\",\"type\":\"Toolbar\"},{\"attributes\":{},\"id\":\"1639\",\"type\":\"BasicTicker\"},{\"attributes\":{\"child\":{\"id\":\"1604\"},\"name\":\"Column02510\",\"title\":\"Welcome\"},\"id\":\"1610\",\"type\":\"Panel\"},{\"attributes\":{\"child\":{\"id\":\"1611\"},\"name\":\"Column02515\",\"title\":\"Gym Estabhlishment Growth\"},\"id\":\"1615\",\"type\":\"Panel\"},{\"attributes\":{\"children\":[{\"id\":\"1620\"},{\"id\":\"1694\"}],\"margin\":[0,0,0,0],\"name\":\"Row02501\"},\"id\":\"1619\",\"type\":\"Row\"},{\"attributes\":{\"coordinates\":null,\"group\":null,\"text\":\"Cryptocurrency User Growth (in Years)\",\"text_color\":\"black\",\"text_font_size\":\"12pt\"},\"id\":\"1695\",\"type\":\"Title\"},{\"attributes\":{\"factors\":[\"2017\",\"2018\",\"2019\",\"2020\",\"2021\",\"2022\",\"2023\",\"2024\",\"2025\"],\"tags\":[[[\"year\",\"year\",null]]]},\"id\":\"1623\",\"type\":\"FactorRange\"},{\"attributes\":{},\"id\":\"1636\",\"type\":\"CategoricalTicker\"},{\"attributes\":{\"end\":30.0,\"reset_end\":30.0,\"reset_start\":0.0,\"tags\":[[[\" growth\",\" growth\",null]]]},\"id\":\"1692\",\"type\":\"Range1d\"},{\"attributes\":{},\"id\":\"1633\",\"type\":\"LinearScale\"},{\"attributes\":{},\"id\":\"1704\",\"type\":\"CategoricalTicker\"},{\"attributes\":{},\"id\":\"1734\",\"type\":\"AllLabels\"},{\"attributes\":{},\"id\":\"1670\",\"type\":\"AllLabels\"},{\"attributes\":{\"bottom\":{\"value\":0},\"fill_alpha\":{\"value\":1.0},\"fill_color\":{\"value\":\"hotpink\"},\"hatch_alpha\":{\"value\":1.0},\"hatch_color\":{\"value\":\"hotpink\"},\"hatch_scale\":{\"value\":12.0},\"hatch_weight\":{\"value\":1.0},\"line_alpha\":{\"value\":1.0},\"line_cap\":{\"value\":\"butt\"},\"line_color\":{\"value\":\"black\"},\"line_dash\":{\"value\":[]},\"line_dash_offset\":{\"value\":0},\"line_join\":{\"value\":\"bevel\"},\"line_width\":{\"value\":1},\"top\":{\"field\":\"no_of_users\"},\"width\":{\"value\":0.8},\"x\":{\"field\":\"year\"}},\"id\":\"1663\",\"type\":\"VBar\"},{\"attributes\":{\"children\":[{\"id\":\"1621\"},{\"id\":\"1622\"}],\"margin\":[0,0,0,0],\"name\":\"Column02487\"},\"id\":\"1620\",\"type\":\"Column\"},{\"attributes\":{\"callback\":null,\"renderers\":[{\"id\":\"1661\"}],\"tags\":[\"hv_created\"],\"tooltips\":[[\"year\",\"@{year}\"],[\"no_of_users\",\"@{no_of_users}\"]]},\"id\":\"1625\",\"type\":\"HoverTool\"},{\"attributes\":{\"fill_color\":{\"value\":\"hotpink\"},\"hatch_color\":{\"value\":\"hotpink\"},\"top\":{\"field\":\"no_of_users\"},\"width\":{\"value\":0.8},\"x\":{\"field\":\"year\"}},\"id\":\"1658\",\"type\":\"VBar\"},{\"attributes\":{\"children\":[{\"id\":\"1617\"},{\"id\":\"1618\"},{\"id\":\"1619\"}],\"margin\":[0,0,0,0],\"name\":\"Column02520\"},\"id\":\"1616\",\"type\":\"Column\"},{\"attributes\":{\"margin\":[0,0,0,0],\"name\":\"Column02495\"},\"id\":\"1621\",\"type\":\"Column\"},{\"attributes\":{\"source\":{\"id\":\"1723\"}},\"id\":\"1730\",\"type\":\"CDSView\"},{\"attributes\":{\"end\":21790000.0,\"reset_end\":21790000.0,\"reset_start\":0.0,\"tags\":[[[\"no_of_users\",\"no_of_users\",null]]]},\"id\":\"1624\",\"type\":\"Range1d\"},{\"attributes\":{\"fill_alpha\":{\"value\":0.2},\"fill_color\":{\"value\":\"hotpink\"},\"hatch_alpha\":{\"value\":0.2},\"hatch_color\":{\"value\":\"hotpink\"},\"line_alpha\":{\"value\":0.2},\"top\":{\"field\":\"no_of_users\"},\"width\":{\"value\":0.8},\"x\":{\"field\":\"year\"}},\"id\":\"1660\",\"type\":\"VBar\"},{\"attributes\":{},\"id\":\"1736\",\"type\":\"BasicTickFormatter\"},{\"attributes\":{},\"id\":\"1711\",\"type\":\"PanTool\"},{\"attributes\":{},\"id\":\"1656\",\"type\":\"Selection\"},{\"attributes\":{},\"id\":\"1643\",\"type\":\"PanTool\"},{\"attributes\":{},\"id\":\"1699\",\"type\":\"CategoricalScale\"},{\"attributes\":{\"child\":{\"id\":\"1616\"},\"name\":\"Column02520\",\"title\":\"Smartphone User Projection\"},\"id\":\"1758\",\"type\":\"Panel\"},{\"attributes\":{\"coordinates\":null,\"group\":null,\"text\":\"Number of people using smartphones\",\"text_color\":\"black\",\"text_font_size\":\"12pt\"},\"id\":\"1627\",\"type\":\"Title\"},{\"attributes\":{\"bottom_units\":\"screen\",\"coordinates\":null,\"fill_alpha\":0.5,\"fill_color\":\"lightgrey\",\"group\":null,\"left_units\":\"screen\",\"level\":\"overlay\",\"line_alpha\":1.0,\"line_color\":\"black\",\"line_dash\":[4,4],\"line_width\":2,\"right_units\":\"screen\",\"syncable\":false,\"top_units\":\"screen\"},\"id\":\"1715\",\"type\":\"BoxAnnotation\"},{\"attributes\":{\"fill_alpha\":{\"value\":0.1},\"fill_color\":{\"value\":\"Orange\"},\"hatch_alpha\":{\"value\":0.1},\"hatch_color\":{\"value\":\"Orange\"},\"line_alpha\":{\"value\":0.1},\"top\":{\"field\":\"growth\"},\"width\":{\"value\":0.8},\"x\":{\"field\":\"year\"}},\"id\":\"1727\",\"type\":\"VBar\"},{\"attributes\":{\"children\":[{\"id\":\"1612\"},{\"id\":\"1613\"},{\"id\":\"1614\"}],\"margin\":[0,0,0,0],\"name\":\"Column02515\"},\"id\":\"1611\",\"type\":\"Column\"},{\"attributes\":{},\"id\":\"1666\",\"type\":\"CategoricalTickFormatter\"},{\"attributes\":{\"css_classes\":[\"markdown\"],\"margin\":[5,5,5,5],\"name\":\"Markdown02516\",\"text\":\"&lt;h1&gt;Smartphone Users Growth Projected&lt;/h1&gt;\"},\"id\":\"1617\",\"type\":\"panel.models.markup.HTML\"},{\"attributes\":{},\"id\":\"1707\",\"type\":\"BasicTicker\"},{\"attributes\":{},\"id\":\"1646\",\"type\":\"ResetTool\"},{\"attributes\":{\"css_classes\":[\"markdown\"],\"margin\":[5,5,5,5],\"name\":\"Markdown02508\",\"text\":\"&lt;p&gt;Click the Tabs above to shift through each plot and analysis.&lt;/p&gt;\"},\"id\":\"1609\",\"type\":\"panel.models.markup.HTML\"},{\"attributes\":{\"axis_label\":\"Number of people\",\"coordinates\":null,\"formatter\":{\"id\":\"1664\"},\"group\":null,\"major_label_policy\":{\"id\":\"1670\"},\"ticker\":{\"id\":\"1639\"}},\"id\":\"1638\",\"type\":\"LinearAxis\"},{\"attributes\":{\"fill_alpha\":{\"value\":0.2},\"fill_color\":{\"value\":\"Orange\"},\"hatch_alpha\":{\"value\":0.2},\"hatch_color\":{\"value\":\"Orange\"},\"line_alpha\":{\"value\":0.2},\"top\":{\"field\":\"growth\"},\"width\":{\"value\":0.8},\"x\":{\"field\":\"year\"}},\"id\":\"1728\",\"type\":\"VBar\"},{\"attributes\":{\"css_classes\":[\"markdown\"],\"margin\":[5,5,5,5],\"name\":\"Markdown02502\",\"text\":\"&lt;h1&gt;Welcome to GymPay.&lt;/h1&gt;\"},\"id\":\"1605\",\"type\":\"panel.models.markup.HTML\"},{\"attributes\":{},\"id\":\"1679\",\"type\":\"UnionRenderers\"},{\"attributes\":{\"axis_label\":\"Year\",\"coordinates\":null,\"formatter\":{\"id\":\"1733\"},\"group\":null,\"major_label_policy\":{\"id\":\"1734\"},\"ticker\":{\"id\":\"1704\"}},\"id\":\"1703\",\"type\":\"CategoricalAxis\"},{\"attributes\":{},\"id\":\"1642\",\"type\":\"SaveTool\"},{\"attributes\":{\"axis\":{\"id\":\"1638\"},\"coordinates\":null,\"dimension\":1,\"grid_line_color\":null,\"group\":null,\"ticker\":null},\"id\":\"1641\",\"type\":\"Grid\"},{\"attributes\":{},\"id\":\"1724\",\"type\":\"Selection\"},{\"attributes\":{\"height\":164,\"margin\":[5,5,5,5],\"name\":\"PNG02484\",\"text\":\"&lt;img src=&quot;data:image/png;base64,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&quot; width=&quot;600px&quot; height=&quot;164px&quot; alt=&quot;&quot;&gt;&lt;/img&gt;\",\"width\":600},\"id\":\"1606\",\"type\":\"panel.models.markup.HTML\"},{\"attributes\":{\"css_classes\":[\"markdown\"],\"margin\":[5,5,5,5],\"name\":\"Markdown02511\",\"text\":\"&lt;h1&gt;Gym Establishments Over Time In Australia&lt;/h1&gt;\"},\"id\":\"1612\",\"type\":\"panel.models.markup.HTML\"},{\"attributes\":{\"overlay\":{\"id\":\"1647\"}},\"id\":\"1645\",\"type\":\"BoxZoomTool\"},{\"attributes\":{\"callback\":null,\"renderers\":[{\"id\":\"1729\"}],\"tags\":[\"hv_created\"],\"tooltips\":[[\"year\",\"@{year}\"],[\" growth\",\"@{growth}\"]]},\"id\":\"1693\",\"type\":\"HoverTool\"},{\"attributes\":{\"css_classes\":[\"markdown\"],\"margin\":[5,5,5,5],\"name\":\"Markdown02506\",\"text\":\"&lt;p&gt;This Dashboard includes a range of plots to show you the business potential of a blockchain geared product in the Fitness world.&lt;/p&gt;\"},\"id\":\"1608\",\"type\":\"panel.models.markup.HTML\"},{\"attributes\":{\"data\":{\"growth\":{\"__ndarray__\":\"zczMzMzMMEBmZmZmZmYyQM3MzMzMzDxA\",\"dtype\":\"float64\",\"order\":\"little\",\"shape\":[3]},\"year\":[\"2019\",\"2020\",\"2021\"]},\"selected\":{\"id\":\"1724\"},\"selection_policy\":{\"id\":\"1745\"}},\"id\":\"1723\",\"type\":\"ColumnDataSource\"},{\"attributes\":{\"axis\":{\"id\":\"1706\"},\"coordinates\":null,\"dimension\":1,\"grid_line_color\":null,\"group\":null,\"ticker\":null},\"id\":\"1709\",\"type\":\"Grid\"},{\"attributes\":{},\"id\":\"1644\",\"type\":\"WheelZoomTool\"},{\"attributes\":{\"coordinates\":null,\"data_source\":{\"id\":\"1655\"},\"glyph\":{\"id\":\"1658\"},\"group\":null,\"hover_glyph\":null,\"muted_glyph\":{\"id\":\"1660\"},\"nonselection_glyph\":{\"id\":\"1659\"},\"selection_glyph\":{\"id\":\"1663\"},\"view\":{\"id\":\"1662\"}},\"id\":\"1661\",\"type\":\"GlyphRenderer\"},{\"attributes\":{},\"id\":\"1712\",\"type\":\"WheelZoomTool\"},{\"attributes\":{},\"id\":\"1714\",\"type\":\"ResetTool\"},{\"attributes\":{\"fill_color\":{\"value\":\"Orange\"},\"hatch_color\":{\"value\":\"Orange\"},\"top\":{\"field\":\"growth\"},\"width\":{\"value\":0.8},\"x\":{\"field\":\"year\"}},\"id\":\"1726\",\"type\":\"VBar\"},{\"attributes\":{},\"id\":\"1737\",\"type\":\"AllLabels\"},{\"attributes\":{\"fill_alpha\":{\"value\":0.1},\"fill_color\":{\"value\":\"hotpink\"},\"hatch_alpha\":{\"value\":0.1},\"hatch_color\":{\"value\":\"hotpink\"},\"line_alpha\":{\"value\":0.1},\"top\":{\"field\":\"no_of_users\"},\"width\":{\"value\":0.8},\"x\":{\"field\":\"year\"}},\"id\":\"1659\",\"type\":\"VBar\"},{\"attributes\":{\"css_classes\":[\"markdown\"],\"margin\":[5,5,5,5],\"name\":\"Markdown02518\",\"text\":\"&lt;p&gt;Python Libray Used: Hvplot&lt;/p&gt;\"},\"id\":\"1618\",\"type\":\"panel.models.markup.HTML\"},{\"attributes\":{},\"id\":\"1710\",\"type\":\"SaveTool\"},{\"attributes\":{\"css_classes\":[\"markdown\"],\"margin\":[5,5,5,5],\"name\":\"Markdown02513\",\"text\":\"&lt;p&gt;Python Library Used: Pygal&lt;/p&gt;\"},\"id\":\"1613\",\"type\":\"panel.models.markup.HTML\"},{\"attributes\":{\"axis_label\":\"In Millions ($)\",\"coordinates\":null,\"formatter\":{\"id\":\"1736\"},\"group\":null,\"major_label_policy\":{\"id\":\"1737\"},\"ticker\":{\"id\":\"1707\"}},\"id\":\"1706\",\"type\":\"LinearAxis\"},{\"attributes\":{\"tools\":[{\"id\":\"1693\"},{\"id\":\"1710\"},{\"id\":\"1711\"},{\"id\":\"1712\"},{\"id\":\"1713\"},{\"id\":\"1714\"}]},\"id\":\"1716\",\"type\":\"Toolbar\"},{\"attributes\":{\"bottom\":{\"value\":0},\"fill_alpha\":{\"value\":1.0},\"fill_color\":{\"value\":\"Orange\"},\"hatch_alpha\":{\"value\":1.0},\"hatch_color\":{\"value\":\"Orange\"},\"hatch_scale\":{\"value\":12.0},\"hatch_weight\":{\"value\":1.0},\"line_alpha\":{\"value\":1.0},\"line_cap\":{\"value\":\"butt\"},\"line_color\":{\"value\":\"black\"},\"line_dash\":{\"value\":[]},\"line_dash_offset\":{\"value\":0},\"line_join\":{\"value\":\"bevel\"},\"line_width\":{\"value\":1},\"top\":{\"field\":\"growth\"},\"width\":{\"value\":0.8},\"x\":{\"field\":\"year\"}},\"id\":\"1731\",\"type\":\"VBar\"},{\"attributes\":{},\"id\":\"1733\",\"type\":\"CategoricalTickFormatter\"},{\"attributes\":{\"axis\":{\"id\":\"1635\"},\"coordinates\":null,\"grid_line_color\":null,\"group\":null,\"ticker\":null},\"id\":\"1637\",\"type\":\"Grid\"},{\"attributes\":{\"client_comm_id\":\"e0c54b64637248f28e4d675fe17b8563\",\"comm_id\":\"5a26ce985ba649c9b430a21eaed5df9c\",\"plot_id\":\"1603\"},\"id\":\"1816\",\"type\":\"panel.models.comm_manager.CommManager\"},{\"attributes\":{\"height\":600,\"margin\":[5,5,5,5],\"name\":\"SVG02482\",\"sizing_mode\":\"fixed\",\"text\":\"&lt;?xml version=&#x27;1.0&#x27; encoding=&#x27;utf-8&#x27;?&gt;\\r\\n&lt;svg xmlns=&quot;http://www.w3.org/2000/svg&quot; xmlns:xlink=&quot;http://www.w3.org/1999/xlink&quot; id=&quot;chart-09067978-aa3d-4c5f-9fc5-5c216bb646b0&quot; class=&quot;pygal-chart&quot; viewBox=&quot;0 0 800 600&quot;&gt;&lt;!--Generated with pygal 3.0.0 (lxml) \\u00a9Kozea 2012-2016 on 2022-02-17--&gt;&lt;!--http://pygal.org--&gt;&lt;!--http://github.com/Kozea/pygal--&gt;&lt;defs&gt;&lt;style type=&quot;text/css&quot;&gt;#chart-09067978-aa3d-4c5f-9fc5-5c216bb646b0{-webkit-user-select:none;-webkit-font-smoothing:antialiased;font-family:Consolas,&quot;Liberation Mono&quot;,Menlo,Courier,monospace}#chart-09067978-aa3d-4c5f-9fc5-5c216bb646b0 .title{font-family:Consolas,&quot;Liberation Mono&quot;,Menlo,Courier,monospace;font-size:16px}#chart-09067978-aa3d-4c5f-9fc5-5c216bb646b0 .legends .legend text{font-family:Consolas,&quot;Liberation Mono&quot;,Menlo,Courier,monospace;font-size:14px}#chart-09067978-aa3d-4c5f-9fc5-5c216bb646b0 .axis text{font-family:Consolas,&quot;Liberation Mono&quot;,Menlo,Courier,monospace;font-size:10px}#chart-09067978-aa3d-4c5f-9fc5-5c216bb646b0 .axis text.major{font-family:Consolas,&quot;Liberation Mono&quot;,Menlo,Courier,monospace;font-size:10px}#chart-09067978-aa3d-4c5f-9fc5-5c216bb646b0 .text-overlay text.value{font-family:Consolas,&quot;Liberation Mono&quot;,Menlo,Courier,monospace;font-size:16px}#chart-09067978-aa3d-4c5f-9fc5-5c216bb646b0 .text-overlay text.label{font-family:Consolas,&quot;Liberation Mono&quot;,Menlo,Courier,monospace;font-size:10px}#chart-09067978-aa3d-4c5f-9fc5-5c216bb646b0 .tooltip{font-family:Consolas,&quot;Liberation Mono&quot;,Menlo,Courier,monospace;font-size:14px}#chart-09067978-aa3d-4c5f-9fc5-5c216bb646b0 text.no_data{font-family:Consolas,&quot;Liberation Mono&quot;,Menlo,Courier,monospace;font-size:64px}\\r\\n#chart-09067978-aa3d-4c5f-9fc5-5c216bb646b0{background-color:rgba(249,249,249,1)}#chart-09067978-aa3d-4c5f-9fc5-5c216bb646b0 path,#chart-09067978-aa3d-4c5f-9fc5-5c216bb646b0 line,#chart-09067978-aa3d-4c5f-9fc5-5c216bb646b0 rect,#chart-09067978-aa3d-4c5f-9fc5-5c216bb646b0 circle{-webkit-transition:150ms;-moz-transition:150ms;transition:150ms}#chart-09067978-aa3d-4c5f-9fc5-5c216bb646b0 .graph &amp;gt; .background{fill:rgba(249,249,249,1)}#chart-09067978-aa3d-4c5f-9fc5-5c216bb646b0 .plot &amp;gt; .background{fill:rgba(255,255,255,1)}#chart-09067978-aa3d-4c5f-9fc5-5c216bb646b0 .graph{fill:rgba(0,0,0,.87)}#chart-09067978-aa3d-4c5f-9fc5-5c216bb646b0 text.no_data{fill:rgba(0,0,0,1)}#chart-09067978-aa3d-4c5f-9fc5-5c216bb646b0 .title{fill:rgba(0,0,0,1)}#chart-09067978-aa3d-4c5f-9fc5-5c216bb646b0 .legends .legend text{fill:rgba(0,0,0,.87)}#chart-09067978-aa3d-4c5f-9fc5-5c216bb646b0 .legends .legend:hover text{fill:rgba(0,0,0,1)}#chart-09067978-aa3d-4c5f-9fc5-5c216bb646b0 .axis .line{stroke:rgba(0,0,0,1)}#chart-09067978-aa3d-4c5f-9fc5-5c216bb646b0 .axis .guide.line{stroke:rgba(0,0,0,.54)}#chart-09067978-aa3d-4c5f-9fc5-5c216bb646b0 .axis .major.line{stroke:rgba(0,0,0,.87)}#chart-09067978-aa3d-4c5f-9fc5-5c216bb646b0 .axis text.major{fill:rgba(0,0,0,1)}#chart-09067978-aa3d-4c5f-9fc5-5c216bb646b0 .axis.y .guides:hover .guide.line,#chart-09067978-aa3d-4c5f-9fc5-5c216bb646b0 .line-graph .axis.x .guides:hover .guide.line,#chart-09067978-aa3d-4c5f-9fc5-5c216bb646b0 .stackedline-graph .axis.x .guides:hover .guide.line,#chart-09067978-aa3d-4c5f-9fc5-5c216bb646b0 .xy-graph .axis.x .guides:hover .guide.line{stroke:rgba(0,0,0,1)}#chart-09067978-aa3d-4c5f-9fc5-5c216bb646b0 .axis .guides:hover text{fill:rgba(0,0,0,1)}#chart-09067978-aa3d-4c5f-9fc5-5c216bb646b0 .reactive{fill-opacity:.7;stroke-opacity:.8;stroke-width:1}#chart-09067978-aa3d-4c5f-9fc5-5c216bb646b0 .ci{stroke:rgba(0,0,0,.87)}#chart-09067978-aa3d-4c5f-9fc5-5c216bb646b0 .reactive.active,#chart-09067978-aa3d-4c5f-9fc5-5c216bb646b0 .active .reactive{fill-opacity:.8;stroke-opacity:.9;stroke-width:4}#chart-09067978-aa3d-4c5f-9fc5-5c216bb646b0 .ci .reactive.active{stroke-width:1.5}#chart-09067978-aa3d-4c5f-9fc5-5c216bb646b0 .series text{fill:rgba(0,0,0,1)}#chart-09067978-aa3d-4c5f-9fc5-5c216bb646b0 .tooltip rect{fill:rgba(255,255,255,1);stroke:rgba(0,0,0,1);-webkit-transition:opacity 150ms;-moz-transition:opacity 150ms;transition:opacity 150ms}#chart-09067978-aa3d-4c5f-9fc5-5c216bb646b0 .tooltip .label{fill:rgba(0,0,0,.87)}#chart-09067978-aa3d-4c5f-9fc5-5c216bb646b0 .tooltip .label{fill:rgba(0,0,0,.87)}#chart-09067978-aa3d-4c5f-9fc5-5c216bb646b0 .tooltip .legend{font-size:.8em;fill:rgba(0,0,0,.54)}#chart-09067978-aa3d-4c5f-9fc5-5c216bb646b0 .tooltip .x_label{font-size:.6em;fill:rgba(0,0,0,1)}#chart-09067978-aa3d-4c5f-9fc5-5c216bb646b0 .tooltip .xlink{font-size:.5em;text-decoration:underline}#chart-09067978-aa3d-4c5f-9fc5-5c216bb646b0 .tooltip .value{font-size:1.5em}#chart-09067978-aa3d-4c5f-9fc5-5c216bb646b0 .bound{font-size:.5em}#chart-09067978-aa3d-4c5f-9fc5-5c216bb646b0 .max-value{font-size:.75em;fill:rgba(0,0,0,.54)}#chart-09067978-aa3d-4c5f-9fc5-5c216bb646b0 .map-element{fill:rgba(255,255,255,1);stroke:rgba(0,0,0,.54) !important}#chart-09067978-aa3d-4c5f-9fc5-5c216bb646b0 .map-element .reactive{fill-opacity:inherit;stroke-opacity:inherit}#chart-09067978-aa3d-4c5f-9fc5-5c216bb646b0 .color-0,#chart-09067978-aa3d-4c5f-9fc5-5c216bb646b0 .color-0 a:visited{stroke:#F44336;fill:#F44336}#chart-09067978-aa3d-4c5f-9fc5-5c216bb646b0 .text-overlay .color-0 text{fill:black}\\r\\n#chart-09067978-aa3d-4c5f-9fc5-5c216bb646b0 text.no_data{text-anchor:middle}#chart-09067978-aa3d-4c5f-9fc5-5c216bb646b0 .guide.line{fill:none}#chart-09067978-aa3d-4c5f-9fc5-5c216bb646b0 .centered{text-anchor:middle}#chart-09067978-aa3d-4c5f-9fc5-5c216bb646b0 .title{text-anchor:middle}#chart-09067978-aa3d-4c5f-9fc5-5c216bb646b0 .legends .legend text{fill-opacity:1}#chart-09067978-aa3d-4c5f-9fc5-5c216bb646b0 .axis.x text{text-anchor:middle}#chart-09067978-aa3d-4c5f-9fc5-5c216bb646b0 .axis.x:not(.web) text[transform]{text-anchor:start}#chart-09067978-aa3d-4c5f-9fc5-5c216bb646b0 .axis.x:not(.web) text[transform].backwards{text-anchor:end}#chart-09067978-aa3d-4c5f-9fc5-5c216bb646b0 .axis.y text{text-anchor:end}#chart-09067978-aa3d-4c5f-9fc5-5c216bb646b0 .axis.y text[transform].backwards{text-anchor:start}#chart-09067978-aa3d-4c5f-9fc5-5c216bb646b0 .axis.y2 text{text-anchor:start}#chart-09067978-aa3d-4c5f-9fc5-5c216bb646b0 .axis.y2 text[transform].backwards{text-anchor:end}#chart-09067978-aa3d-4c5f-9fc5-5c216bb646b0 .axis .guide.line{stroke-dasharray:4,4;stroke:black}#chart-09067978-aa3d-4c5f-9fc5-5c216bb646b0 .axis .major.guide.line{stroke-dasharray:6,6;stroke:black}#chart-09067978-aa3d-4c5f-9fc5-5c216bb646b0 .horizontal .axis.y .guide.line,#chart-09067978-aa3d-4c5f-9fc5-5c216bb646b0 .horizontal .axis.y2 .guide.line,#chart-09067978-aa3d-4c5f-9fc5-5c216bb646b0 .vertical .axis.x .guide.line{opacity:0}#chart-09067978-aa3d-4c5f-9fc5-5c216bb646b0 .horizontal .axis.always_show .guide.line,#chart-09067978-aa3d-4c5f-9fc5-5c216bb646b0 .vertical .axis.always_show .guide.line{opacity:1 !important}#chart-09067978-aa3d-4c5f-9fc5-5c216bb646b0 .axis.y .guides:hover .guide.line,#chart-09067978-aa3d-4c5f-9fc5-5c216bb646b0 .axis.y2 .guides:hover .guide.line,#chart-09067978-aa3d-4c5f-9fc5-5c216bb646b0 .axis.x .guides:hover .guide.line{opacity:1}#chart-09067978-aa3d-4c5f-9fc5-5c216bb646b0 .axis .guides:hover text{opacity:1}#chart-09067978-aa3d-4c5f-9fc5-5c216bb646b0 .nofill{fill:none}#chart-09067978-aa3d-4c5f-9fc5-5c216bb646b0 .subtle-fill{fill-opacity:.2}#chart-09067978-aa3d-4c5f-9fc5-5c216bb646b0 .dot{stroke-width:1px;fill-opacity:1;stroke-opacity:1}#chart-09067978-aa3d-4c5f-9fc5-5c216bb646b0 .dot.active{stroke-width:5px}#chart-09067978-aa3d-4c5f-9fc5-5c216bb646b0 .dot.negative{fill:transparent}#chart-09067978-aa3d-4c5f-9fc5-5c216bb646b0 text,#chart-09067978-aa3d-4c5f-9fc5-5c216bb646b0 tspan{stroke:none !important}#chart-09067978-aa3d-4c5f-9fc5-5c216bb646b0 .series text.active{opacity:1}#chart-09067978-aa3d-4c5f-9fc5-5c216bb646b0 .tooltip rect{fill-opacity:.95;stroke-width:.5}#chart-09067978-aa3d-4c5f-9fc5-5c216bb646b0 .tooltip text{fill-opacity:1}#chart-09067978-aa3d-4c5f-9fc5-5c216bb646b0 .showable{visibility:hidden}#chart-09067978-aa3d-4c5f-9fc5-5c216bb646b0 .showable.shown{visibility:visible}#chart-09067978-aa3d-4c5f-9fc5-5c216bb646b0 .gauge-background{fill:rgba(229,229,229,1);stroke:none}#chart-09067978-aa3d-4c5f-9fc5-5c216bb646b0 .bg-lines{stroke:rgba(249,249,249,1);stroke-width:2px}&lt;/style&gt;&lt;script type=&quot;text/javascript&quot;&gt;window.pygal = window.pygal || {};window.pygal.config = window.pygal.config || {};window.pygal.config[&#x27;09067978-aa3d-4c5f-9fc5-5c216bb646b0&#x27;] = {&quot;allow_interruptions&quot;: false, &quot;box_mode&quot;: &quot;extremes&quot;, &quot;classes&quot;: [&quot;pygal-chart&quot;], &quot;css&quot;: [&quot;file://style.css&quot;, &quot;file://graph.css&quot;], &quot;defs&quot;: [], &quot;disable_xml_declaration&quot;: false, &quot;dots_size&quot;: 2.5, &quot;dynamic_print_values&quot;: false, &quot;explicit_size&quot;: false, &quot;fill&quot;: false, &quot;force_uri_protocol&quot;: &quot;https&quot;, &quot;formatter&quot;: null, &quot;half_pie&quot;: false, &quot;height&quot;: 600, &quot;include_x_axis&quot;: false, &quot;inner_radius&quot;: 0, &quot;interpolate&quot;: null, &quot;interpolation_parameters&quot;: {}, &quot;interpolation_precision&quot;: 250, &quot;inverse_y_axis&quot;: false, &quot;js&quot;: [&quot;//kozea.github.io/pygal.js/2.0.x/pygal-tooltips.min.js&quot;], &quot;legend_at_bottom&quot;: false, &quot;legend_at_bottom_columns&quot;: null, &quot;legend_box_size&quot;: 12, &quot;logarithmic&quot;: false, &quot;margin&quot;: 20, &quot;margin_bottom&quot;: null, &quot;margin_left&quot;: null, &quot;margin_right&quot;: null, &quot;margin_top&quot;: null, &quot;max_scale&quot;: 16, &quot;min_scale&quot;: 4, &quot;missing_value_fill_truncation&quot;: &quot;x&quot;, &quot;no_data_text&quot;: &quot;No data&quot;, &quot;no_prefix&quot;: false, &quot;order_min&quot;: null, &quot;pretty_print&quot;: false, &quot;print_labels&quot;: false, &quot;print_values&quot;: false, &quot;print_values_position&quot;: &quot;center&quot;, &quot;print_zeroes&quot;: true, &quot;range&quot;: null, &quot;rounded_bars&quot;: null, &quot;secondary_range&quot;: null, &quot;show_dots&quot;: true, &quot;show_legend&quot;: true, &quot;show_minor_x_labels&quot;: true, &quot;show_minor_y_labels&quot;: true, &quot;show_only_major_dots&quot;: false, &quot;show_x_guides&quot;: false, &quot;show_x_labels&quot;: true, &quot;show_y_guides&quot;: true, &quot;show_y_labels&quot;: true, &quot;spacing&quot;: 10, &quot;stack_from_top&quot;: false, &quot;strict&quot;: false, &quot;stroke&quot;: true, &quot;stroke_style&quot;: null, &quot;style&quot;: {&quot;background&quot;: &quot;rgba(249, 249, 249, 1)&quot;, &quot;ci_colors&quot;: [], &quot;colors&quot;: [&quot;#F44336&quot;, &quot;#3F51B5&quot;, &quot;#009688&quot;, &quot;#FFC107&quot;, &quot;#FF5722&quot;, &quot;#9C27B0&quot;, &quot;#03A9F4&quot;, &quot;#8BC34A&quot;, &quot;#FF9800&quot;, &quot;#E91E63&quot;, &quot;#2196F3&quot;, &quot;#4CAF50&quot;, &quot;#FFEB3B&quot;, &quot;#673AB7&quot;, &quot;#00BCD4&quot;, &quot;#CDDC39&quot;, &quot;#9E9E9E&quot;, &quot;#607D8B&quot;], &quot;dot_opacity&quot;: &quot;1&quot;, &quot;font_family&quot;: &quot;Consolas, \\\\&quot;Liberation Mono\\\\&quot;, Menlo, Courier, monospace&quot;, &quot;foreground&quot;: &quot;rgba(0, 0, 0, .87)&quot;, &quot;foreground_strong&quot;: &quot;rgba(0, 0, 0, 1)&quot;, &quot;foreground_subtle&quot;: &quot;rgba(0, 0, 0, .54)&quot;, &quot;guide_stroke_color&quot;: &quot;black&quot;, &quot;guide_stroke_dasharray&quot;: &quot;4,4&quot;, &quot;label_font_family&quot;: &quot;Consolas, \\\\&quot;Liberation Mono\\\\&quot;, Menlo, Courier, monospace&quot;, &quot;label_font_size&quot;: 10, &quot;legend_font_family&quot;: &quot;Consolas, \\\\&quot;Liberation Mono\\\\&quot;, Menlo, Courier, monospace&quot;, &quot;legend_font_size&quot;: 14, &quot;major_guide_stroke_color&quot;: &quot;black&quot;, &quot;major_guide_stroke_dasharray&quot;: &quot;6,6&quot;, &quot;major_label_font_family&quot;: &quot;Consolas, \\\\&quot;Liberation Mono\\\\&quot;, Menlo, Courier, monospace&quot;, &quot;major_label_font_size&quot;: 10, &quot;no_data_font_family&quot;: &quot;Consolas, \\\\&quot;Liberation Mono\\\\&quot;, Menlo, Courier, monospace&quot;, &quot;no_data_font_size&quot;: 64, &quot;opacity&quot;: &quot;.7&quot;, &quot;opacity_hover&quot;: &quot;.8&quot;, &quot;plot_background&quot;: &quot;rgba(255, 255, 255, 1)&quot;, &quot;stroke_opacity&quot;: &quot;.8&quot;, &quot;stroke_opacity_hover&quot;: &quot;.9&quot;, &quot;stroke_width&quot;: &quot;1&quot;, &quot;stroke_width_hover&quot;: &quot;4&quot;, &quot;title_font_family&quot;: &quot;Consolas, \\\\&quot;Liberation Mono\\\\&quot;, Menlo, Courier, monospace&quot;, &quot;title_font_size&quot;: 16, &quot;tooltip_font_family&quot;: &quot;Consolas, \\\\&quot;Liberation Mono\\\\&quot;, Menlo, Courier, monospace&quot;, &quot;tooltip_font_size&quot;: 14, &quot;transition&quot;: &quot;150ms&quot;, &quot;value_background&quot;: &quot;rgba(229, 229, 229, 1)&quot;, &quot;value_colors&quot;: [], &quot;value_font_family&quot;: &quot;Consolas, \\\\&quot;Liberation Mono\\\\&quot;, Menlo, Courier, monospace&quot;, &quot;value_font_size&quot;: 16, &quot;value_label_font_family&quot;: &quot;Consolas, \\\\&quot;Liberation Mono\\\\&quot;, Menlo, Courier, monospace&quot;, &quot;value_label_font_size&quot;: 10}, &quot;title&quot;: null, &quot;tooltip_border_radius&quot;: 0, &quot;tooltip_fancy_mode&quot;: true, &quot;truncate_label&quot;: null, &quot;truncate_legend&quot;: null, &quot;width&quot;: 800, &quot;x_label_rotation&quot;: 0, &quot;x_labels&quot;: [2016, 2017, 2018, 2019, 2020], &quot;x_labels_major&quot;: null, &quot;x_labels_major_count&quot;: null, &quot;x_labels_major_every&quot;: null, &quot;x_title&quot;: null, &quot;xrange&quot;: null, &quot;y_label_rotation&quot;: 0, &quot;y_labels&quot;: null, &quot;y_labels_major&quot;: null, &quot;y_labels_major_count&quot;: null, &quot;y_labels_major_every&quot;: null, &quot;y_title&quot;: null, &quot;zero&quot;: 0, &quot;legends&quot;: [&quot;Gyms Open&quot;]}&lt;/script&gt;&lt;script type=&quot;text/javascript&quot; xlink:href=&quot;https://kozea.github.io/pygal.js/2.0.x/pygal-tooltips.min.js&quot;/&gt;&lt;/defs&gt;&lt;title&gt;Pygal&lt;/title&gt;&lt;g class=&quot;graph bar-graph vertical&quot;&gt;&lt;rect x=&quot;0&quot; y=&quot;0&quot; width=&quot;800&quot; height=&quot;600&quot; class=&quot;background&quot;/&gt;&lt;g transform=&quot;translate(151, 20)&quot; class=&quot;plot&quot;&gt;&lt;rect x=&quot;0&quot; y=&quot;0&quot; width=&quot;628.4&quot; height=&quot;540&quot; class=&quot;background&quot;/&gt;&lt;g class=&quot;axis y always_show&quot;&gt;&lt;g class=&quot;guides&quot;&gt;&lt;path d=&quot;M0.000000 529.615385 h628.400000&quot; class=&quot;axis major line&quot;/&gt;&lt;text x=&quot;-5&quot; y=&quot;533.1153846153846&quot; class=&quot;major&quot;&gt;0&lt;/text&gt;&lt;title&gt;0&lt;/title&gt;&lt;/g&gt;&lt;g class=&quot;guides&quot;&gt;&lt;path d=&quot;M0.000000 431.647315 h628.400000&quot; class=&quot;guide line&quot;/&gt;&lt;text x=&quot;-5&quot; y=&quot;435.14731494920176&quot; class=&quot;&quot;&gt;1000&lt;/text&gt;&lt;title&gt;1000&lt;/title&gt;&lt;/g&gt;&lt;g class=&quot;guides&quot;&gt;&lt;path d=&quot;M0.000000 333.679245 h628.400000&quot; class=&quot;guide line&quot;/&gt;&lt;text x=&quot;-5&quot; y=&quot;337.1792452830189&quot; class=&quot;&quot;&gt;2000&lt;/text&gt;&lt;title&gt;2000&lt;/title&gt;&lt;/g&gt;&lt;g class=&quot;guides&quot;&gt;&lt;path d=&quot;M0.000000 235.711176 h628.400000&quot; class=&quot;guide line&quot;/&gt;&lt;text x=&quot;-5&quot; y=&quot;239.211175616836&quot; class=&quot;&quot;&gt;3000&lt;/text&gt;&lt;title&gt;3000&lt;/title&gt;&lt;/g&gt;&lt;g class=&quot;guides&quot;&gt;&lt;path d=&quot;M0.000000 137.743106 h628.400000&quot; class=&quot;guide line&quot;/&gt;&lt;text x=&quot;-5&quot; y=&quot;141.2431059506531&quot; class=&quot;&quot;&gt;4000&lt;/text&gt;&lt;title&gt;4000&lt;/title&gt;&lt;/g&gt;&lt;g class=&quot;guides&quot;&gt;&lt;path d=&quot;M0.000000 39.775036 h628.400000&quot; class=&quot;major guide line&quot;/&gt;&lt;text x=&quot;-5&quot; y=&quot;43.275036284470275&quot; class=&quot;major&quot;&gt;5000&lt;/text&gt;&lt;title&gt;5000&lt;/title&gt;&lt;/g&gt;&lt;/g&gt;&lt;g class=&quot;axis x&quot;&gt;&lt;path d=&quot;M0.000000 0.000000 v540.000000&quot; class=&quot;line&quot;/&gt;&lt;g class=&quot;guides&quot;&gt;&lt;path d=&quot;M72.507692 0.000000 v540.000000&quot; class=&quot;guide line&quot;/&gt;&lt;text x=&quot;72.50769230769231&quot; y=&quot;555.0&quot; class=&quot;&quot;&gt;2016&lt;/text&gt;&lt;/g&gt;&lt;g class=&quot;guides&quot;&gt;&lt;path d=&quot;M193.353846 0.000000 v540.000000&quot; class=&quot;guide line&quot;/&gt;&lt;text x=&quot;193.35384615384615&quot; y=&quot;555.0&quot; class=&quot;&quot;&gt;2017&lt;/text&gt;&lt;/g&gt;&lt;g class=&quot;guides&quot;&gt;&lt;path d=&quot;M314.200000 0.000000 v540.000000&quot; class=&quot;guide line&quot;/&gt;&lt;text x=&quot;314.2&quot; y=&quot;555.0&quot; class=&quot;&quot;&gt;2018&lt;/text&gt;&lt;/g&gt;&lt;g class=&quot;guides&quot;&gt;&lt;path d=&quot;M435.046154 0.000000 v540.000000&quot; class=&quot;guide line&quot;/&gt;&lt;text x=&quot;435.0461538461538&quot; y=&quot;555.0&quot; class=&quot;&quot;&gt;2019&lt;/text&gt;&lt;/g&gt;&lt;g class=&quot;guides&quot;&gt;&lt;path d=&quot;M555.892308 0.000000 v540.000000&quot; class=&quot;guide line&quot;/&gt;&lt;text x=&quot;555.8923076923077&quot; y=&quot;555.0&quot; class=&quot;&quot;&gt;2020&lt;/text&gt;&lt;/g&gt;&lt;/g&gt;&lt;g class=&quot;series serie-0 color-0&quot;&gt;&lt;g class=&quot;bars&quot;&gt;&lt;g class=&quot;bar&quot;&gt;&lt;rect x=&quot;25.71606153846154&quot; y=&quot;147.5399129172714&quot; rx=&quot;0&quot; ry=&quot;0&quot; width=&quot;93.58326153846153&quot; height=&quot;382.07547169811323&quot; class=&quot;rect reactive tooltip-trigger&quot;/&gt;&lt;desc class=&quot;value&quot;&gt;3900&lt;/desc&gt;&lt;desc class=&quot;x centered&quot;&gt;72.50769230769231&lt;/desc&gt;&lt;desc class=&quot;y centered&quot;&gt;338.577648766328&lt;/desc&gt;&lt;desc class=&quot;x_label&quot;&gt;2016&lt;/desc&gt;&lt;/g&gt;&lt;g class=&quot;bar&quot;&gt;&lt;rect x=&quot;146.56221538461537&quot; y=&quot;98.55587808418&quot; rx=&quot;0&quot; ry=&quot;0&quot; width=&quot;93.58326153846153&quot; height=&quot;431.05950653120465&quot; class=&quot;rect reactive tooltip-trigger&quot;/&gt;&lt;desc class=&quot;value&quot;&gt;4400&lt;/desc&gt;&lt;desc class=&quot;x centered&quot;&gt;193.35384615384612&lt;/desc&gt;&lt;desc class=&quot;y centered&quot;&gt;314.0856313497823&lt;/desc&gt;&lt;desc class=&quot;x_label&quot;&gt;2017&lt;/desc&gt;&lt;/g&gt;&lt;g class=&quot;bar&quot;&gt;&lt;rect x=&quot;267.4083692307692&quot; y=&quot;59.36865021770683&quot; rx=&quot;0&quot; ry=&quot;0&quot; width=&quot;93.58326153846153&quot; height=&quot;470.2467343976778&quot; class=&quot;rect reactive tooltip-trigger&quot;/&gt;&lt;desc class=&quot;value&quot;&gt;4800&lt;/desc&gt;&lt;desc class=&quot;x centered&quot;&gt;314.2&lt;/desc&gt;&lt;desc class=&quot;y centered&quot;&gt;294.49201741654576&lt;/desc&gt;&lt;desc class=&quot;x_label&quot;&gt;2018&lt;/desc&gt;&lt;/g&gt;&lt;g class=&quot;bar&quot;&gt;&lt;rect x=&quot;388.254523076923&quot; y=&quot;39.775036284470275&quot; rx=&quot;0&quot; ry=&quot;0&quot; width=&quot;93.58326153846153&quot; height=&quot;489.84034833091437&quot; class=&quot;rect reactive tooltip-trigger&quot;/&gt;&lt;desc class=&quot;value&quot;&gt;5000&lt;/desc&gt;&lt;desc class=&quot;x centered&quot;&gt;435.0461538461538&lt;/desc&gt;&lt;desc class=&quot;y centered&quot;&gt;284.69521044992746&lt;/desc&gt;&lt;desc class=&quot;x_label&quot;&gt;2019&lt;/desc&gt;&lt;/g&gt;&lt;g class=&quot;bar&quot;&gt;&lt;rect x=&quot;509.1006769230769&quot; y=&quot;10.384615384615358&quot; rx=&quot;0&quot; ry=&quot;0&quot; width=&quot;93.58326153846153&quot; height=&quot;519.2307692307693&quot; class=&quot;rect reactive tooltip-trigger&quot;/&gt;&lt;desc class=&quot;value&quot;&gt;5300&lt;/desc&gt;&lt;desc class=&quot;x centered&quot;&gt;555.8923076923077&lt;/desc&gt;&lt;desc class=&quot;y centered&quot;&gt;270.0&lt;/desc&gt;&lt;desc class=&quot;x_label&quot;&gt;2020&lt;/desc&gt;&lt;/g&gt;&lt;/g&gt;&lt;/g&gt;&lt;/g&gt;&lt;g class=&quot;titles&quot;/&gt;&lt;g transform=&quot;translate(151, 20)&quot; class=&quot;plot overlay&quot;&gt;&lt;g class=&quot;series serie-0 color-0&quot;/&gt;&lt;/g&gt;&lt;g transform=&quot;translate(151, 20)&quot; class=&quot;plot text-overlay&quot;&gt;&lt;g class=&quot;series serie-0 color-0&quot;/&gt;&lt;/g&gt;&lt;g transform=&quot;translate(151, 20)&quot; class=&quot;plot tooltip-overlay&quot;&gt;&lt;g transform=&quot;translate(0 0)&quot; style=&quot;opacity: 0&quot; class=&quot;tooltip&quot;&gt;&lt;rect rx=&quot;0&quot; ry=&quot;0&quot; width=&quot;0&quot; height=&quot;0&quot; class=&quot;tooltip-box&quot;/&gt;&lt;g class=&quot;text&quot;/&gt;&lt;/g&gt;&lt;/g&gt;&lt;g transform=&quot;translate(10, 30)&quot; class=&quot;legends&quot;&gt;&lt;g id=&quot;activate-serie-0&quot; class=&quot;legend reactive activate-serie&quot;&gt;&lt;rect x=&quot;0.0&quot; y=&quot;1.0&quot; width=&quot;12&quot; height=&quot;12&quot; class=&quot;color-0 reactive&quot;/&gt;&lt;text x=&quot;17.0&quot; y=&quot;11.2&quot;&gt;Gyms Open&lt;/text&gt;&lt;/g&gt;&lt;/g&gt;&lt;g transform=&quot;translate(790, 30)&quot; class=&quot;legends&quot;/&gt;&lt;/g&gt;&lt;/svg&gt;\",\"width\":800},\"id\":\"1614\",\"type\":\"panel.models.markup.HTML\"},{\"attributes\":{\"source\":{\"id\":\"1655\"}},\"id\":\"1662\",\"type\":\"CDSView\"},{\"attributes\":{},\"id\":\"1701\",\"type\":\"LinearScale\"},{\"attributes\":{\"css_classes\":[\"markdown\"],\"margin\":[5,5,5,5],\"name\":\"Markdown02504\",\"text\":\"&lt;p&gt;On this project we decided to gather research on blockchain technology and its market potential to change the financial payment services industry, with example given for the Fitness Industry.&lt;/p&gt;\"},\"id\":\"1607\",\"type\":\"panel.models.markup.HTML\"},{\"attributes\":{\"children\":[{\"id\":\"1626\"}],\"margin\":[0,0,0,0],\"name\":\"Row02494\"},\"id\":\"1622\",\"type\":\"Row\"},{\"attributes\":{},\"id\":\"1631\",\"type\":\"CategoricalScale\"},{\"attributes\":{\"format\":\"%.0f\"},\"id\":\"1664\",\"type\":\"PrintfTickFormatter\"},{\"attributes\":{\"overlay\":{\"id\":\"1715\"}},\"id\":\"1713\",\"type\":\"BoxZoomTool\"},{\"attributes\":{},\"id\":\"1745\",\"type\":\"UnionRenderers\"},{\"attributes\":{},\"id\":\"1667\",\"type\":\"AllLabels\"},{\"attributes\":{\"coordinates\":null,\"data_source\":{\"id\":\"1723\"},\"glyph\":{\"id\":\"1726\"},\"group\":null,\"hover_glyph\":null,\"muted_glyph\":{\"id\":\"1728\"},\"nonselection_glyph\":{\"id\":\"1727\"},\"selection_glyph\":{\"id\":\"1731\"},\"view\":{\"id\":\"1730\"}},\"id\":\"1729\",\"type\":\"GlyphRenderer\"},{\"attributes\":{\"bottom_units\":\"screen\",\"coordinates\":null,\"fill_alpha\":0.5,\"fill_color\":\"lightgrey\",\"group\":null,\"left_units\":\"screen\",\"level\":\"overlay\",\"line_alpha\":1.0,\"line_color\":\"black\",\"line_dash\":[4,4],\"line_width\":2,\"right_units\":\"screen\",\"syncable\":false,\"top_units\":\"screen\"},\"id\":\"1647\",\"type\":\"BoxAnnotation\"},{\"attributes\":{\"axis\":{\"id\":\"1703\"},\"coordinates\":null,\"grid_line_color\":null,\"group\":null,\"ticker\":null},\"id\":\"1705\",\"type\":\"Grid\"}],\"root_ids\":[\"1603\",\"1816\"]},\"title\":\"Bokeh Application\",\"version\":\"2.4.2\"}};\n",
       "    var render_items = [{\"docid\":\"67e33c09-f952-455c-a591-b16e0395aaaa\",\"root_ids\":[\"1603\"],\"roots\":{\"1603\":\"470168ca-d951-4edf-93d7-b5fc2112f77c\"}}];\n",
       "    root.Bokeh.embed.embed_items_notebook(docs_json, render_items);\n",
       "  }\n",
       "  if (root.Bokeh !== undefined && root.Bokeh.Panel !== undefined) {\n",
       "    embed_document(root);\n",
       "  } else {\n",
       "    var attempts = 0;\n",
       "    var timer = setInterval(function(root) {\n",
       "      if (root.Bokeh !== undefined && root.Bokeh.Panel !== undefined) {\n",
       "        clearInterval(timer);\n",
       "        embed_document(root);\n",
       "      } else if (document.readyState == \"complete\") {\n",
       "        attempts++;\n",
       "        if (attempts > 200) {\n",
       "          clearInterval(timer);\n",
       "          console.log(\"Bokeh: ERROR: Unable to run BokehJS code because BokehJS library is missing\");\n",
       "        }\n",
       "      }\n",
       "    }, 25, root)\n",
       "  }\n",
       "})(window);</script>"
      ],
      "text/plain": [
       "Tabs\n",
       "    [0] Column\n",
       "        [0] Markdown(str)\n",
       "        [1] PNG(str, width=600)\n",
       "        [2] Markdown(str)\n",
       "        [3] Markdown(str)\n",
       "        [4] Markdown(str)\n",
       "    [1] Column\n",
       "        [0] Markdown(str)\n",
       "        [1] Markdown(str)\n",
       "        [2] SVG(str, height=600, sizing_mode='fixed', width=800)\n",
       "    [2] Column\n",
       "        [0] Markdown(str)\n",
       "        [1] Markdown(str)\n",
       "        [2] Row\n",
       "            [0] Column\n",
       "                [0] Column()\n",
       "                [1] Row\n",
       "                    [0] HoloViews(Bars, name='interactive02486')\n",
       "            [1] HoloViews(Bars)"
      ]
     },
     "execution_count": 58,
     "metadata": {
      "application/vnd.holoviews_exec.v0+json": {
       "id": "1603"
      }
     },
     "output_type": "execute_result"
    }
   ],
   "source": [
    "dashboard.servable()"
   ]
  },
  {
   "cell_type": "code",
   "execution_count": null,
   "id": "748cca37",
   "metadata": {},
   "outputs": [],
   "source": []
  },
  {
   "cell_type": "code",
   "execution_count": null,
   "id": "72bbb92e",
   "metadata": {},
   "outputs": [],
   "source": []
  },
  {
   "cell_type": "code",
   "execution_count": null,
   "id": "840542fa",
   "metadata": {},
   "outputs": [],
   "source": []
  },
  {
   "cell_type": "code",
   "execution_count": null,
   "id": "98cde959",
   "metadata": {},
   "outputs": [],
   "source": []
  },
  {
   "cell_type": "code",
   "execution_count": null,
   "id": "520dbda6",
   "metadata": {},
   "outputs": [],
   "source": []
  },
  {
   "cell_type": "code",
   "execution_count": null,
   "id": "29f1af68",
   "metadata": {},
   "outputs": [],
   "source": []
  },
  {
   "cell_type": "code",
   "execution_count": null,
   "id": "ccf557be",
   "metadata": {},
   "outputs": [],
   "source": []
  },
  {
   "cell_type": "code",
   "execution_count": null,
   "id": "d1b5752a",
   "metadata": {},
   "outputs": [],
   "source": []
  },
  {
   "cell_type": "code",
   "execution_count": null,
   "id": "afc042ea",
   "metadata": {},
   "outputs": [],
   "source": []
  },
  {
   "cell_type": "code",
   "execution_count": null,
   "id": "6143f589",
   "metadata": {},
   "outputs": [],
   "source": []
  }
 ],
 "metadata": {
  "kernelspec": {
   "display_name": "Python [conda env:pyvizenv] *",
   "language": "python",
   "name": "conda-env-pyvizenv-py"
  },
  "language_info": {
   "codemirror_mode": {
    "name": "ipython",
    "version": 3
   },
   "file_extension": ".py",
   "mimetype": "text/x-python",
   "name": "python",
   "nbconvert_exporter": "python",
   "pygments_lexer": "ipython3",
   "version": "3.7.11"
  }
 },
 "nbformat": 4,
 "nbformat_minor": 5
}
